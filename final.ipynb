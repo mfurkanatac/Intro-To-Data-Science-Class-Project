{
 "cells": [
  {
   "cell_type": "code",
   "execution_count": 1,
   "metadata": {},
   "outputs": [],
   "source": [
    "import numpy as np\n",
    "import pandas as pd\n",
    "import matplotlib.pyplot as plt\n",
    "import seaborn as sns\n"
   ]
  },
  {
   "attachments": {},
   "cell_type": "markdown",
   "metadata": {},
   "source": [
    "---"
   ]
  },
  {
   "attachments": {},
   "cell_type": "markdown",
   "metadata": {},
   "source": [
    "# Children csv Cleaning"
   ]
  },
  {
   "attachments": {},
   "cell_type": "markdown",
   "metadata": {},
   "source": [
    "---"
   ]
  },
  {
   "cell_type": "code",
   "execution_count": 2,
   "metadata": {},
   "outputs": [],
   "source": [
    "children = pd.read_csv(\"children.csv\")"
   ]
  },
  {
   "cell_type": "code",
   "execution_count": 3,
   "metadata": {},
   "outputs": [
    {
     "data": {
      "text/html": [
       "<div>\n",
       "<style scoped>\n",
       "    .dataframe tbody tr th:only-of-type {\n",
       "        vertical-align: middle;\n",
       "    }\n",
       "\n",
       "    .dataframe tbody tr th {\n",
       "        vertical-align: top;\n",
       "    }\n",
       "\n",
       "    .dataframe thead th {\n",
       "        text-align: right;\n",
       "    }\n",
       "</style>\n",
       "<table border=\"1\" class=\"dataframe\">\n",
       "  <thead>\n",
       "    <tr style=\"text-align: right;\">\n",
       "      <th></th>\n",
       "      <th>Location</th>\n",
       "      <th>2021</th>\n",
       "      <th>2019</th>\n",
       "      <th>2010</th>\n",
       "      <th>2000</th>\n",
       "      <th>1990</th>\n",
       "    </tr>\n",
       "  </thead>\n",
       "  <tbody>\n",
       "    <tr>\n",
       "      <th>0</th>\n",
       "      <td>United States</td>\n",
       "      <td>18,021</td>\n",
       "      <td>17,807</td>\n",
       "      <td>16,953</td>\n",
       "      <td>13,089</td>\n",
       "      <td>8,194</td>\n",
       "    </tr>\n",
       "    <tr>\n",
       "      <th>1</th>\n",
       "      <td>Alabama</td>\n",
       "      <td>86</td>\n",
       "      <td>80</td>\n",
       "      <td>76</td>\n",
       "      <td>36</td>\n",
       "      <td>21</td>\n",
       "    </tr>\n",
       "    <tr>\n",
       "      <th>2</th>\n",
       "      <td>Alaska</td>\n",
       "      <td>26</td>\n",
       "      <td>25</td>\n",
       "      <td>21</td>\n",
       "      <td>20</td>\n",
       "      <td>13</td>\n",
       "    </tr>\n",
       "    <tr>\n",
       "      <th>3</th>\n",
       "      <td>Arizona</td>\n",
       "      <td>397</td>\n",
       "      <td>444</td>\n",
       "      <td>448</td>\n",
       "      <td>333</td>\n",
       "      <td>147</td>\n",
       "    </tr>\n",
       "    <tr>\n",
       "      <th>4</th>\n",
       "      <td>Arkansas</td>\n",
       "      <td>75</td>\n",
       "      <td>75</td>\n",
       "      <td>70</td>\n",
       "      <td>34</td>\n",
       "      <td>12</td>\n",
       "    </tr>\n",
       "  </tbody>\n",
       "</table>\n",
       "</div>"
      ],
      "text/plain": [
       "        Location       2021       2019       2010       2000      1990\n",
       "0  United States    18,021     17,807     16,953     13,089     8,194 \n",
       "1        Alabama        86         80         76         36        21 \n",
       "2         Alaska        26         25         21         20        13 \n",
       "3        Arizona       397        444        448        333       147 \n",
       "4       Arkansas        75         75         70         34        12 "
      ]
     },
     "execution_count": 3,
     "metadata": {},
     "output_type": "execute_result"
    }
   ],
   "source": [
    "children.head()"
   ]
  },
  {
   "cell_type": "code",
   "execution_count": 4,
   "metadata": {},
   "outputs": [],
   "source": [
    "childrenLocation = children[\"Location\"]"
   ]
  },
  {
   "cell_type": "code",
   "execution_count": 5,
   "metadata": {},
   "outputs": [
    {
     "data": {
      "text/html": [
       "<div>\n",
       "<style scoped>\n",
       "    .dataframe tbody tr th:only-of-type {\n",
       "        vertical-align: middle;\n",
       "    }\n",
       "\n",
       "    .dataframe tbody tr th {\n",
       "        vertical-align: top;\n",
       "    }\n",
       "\n",
       "    .dataframe thead th {\n",
       "        text-align: right;\n",
       "    }\n",
       "</style>\n",
       "<table border=\"1\" class=\"dataframe\">\n",
       "  <thead>\n",
       "    <tr style=\"text-align: right;\">\n",
       "      <th></th>\n",
       "      <th>2021</th>\n",
       "      <th>2019</th>\n",
       "      <th>2010</th>\n",
       "      <th>2000</th>\n",
       "      <th>1990</th>\n",
       "    </tr>\n",
       "  </thead>\n",
       "  <tbody>\n",
       "    <tr>\n",
       "      <th>0</th>\n",
       "      <td>18,021</td>\n",
       "      <td>17,807</td>\n",
       "      <td>16,953</td>\n",
       "      <td>13,089</td>\n",
       "      <td>8,194</td>\n",
       "    </tr>\n",
       "    <tr>\n",
       "      <th>1</th>\n",
       "      <td>86</td>\n",
       "      <td>80</td>\n",
       "      <td>76</td>\n",
       "      <td>36</td>\n",
       "      <td>21</td>\n",
       "    </tr>\n",
       "    <tr>\n",
       "      <th>2</th>\n",
       "      <td>26</td>\n",
       "      <td>25</td>\n",
       "      <td>21</td>\n",
       "      <td>20</td>\n",
       "      <td>13</td>\n",
       "    </tr>\n",
       "    <tr>\n",
       "      <th>3</th>\n",
       "      <td>397</td>\n",
       "      <td>444</td>\n",
       "      <td>448</td>\n",
       "      <td>333</td>\n",
       "      <td>147</td>\n",
       "    </tr>\n",
       "    <tr>\n",
       "      <th>4</th>\n",
       "      <td>75</td>\n",
       "      <td>75</td>\n",
       "      <td>70</td>\n",
       "      <td>34</td>\n",
       "      <td>12</td>\n",
       "    </tr>\n",
       "  </tbody>\n",
       "</table>\n",
       "</div>"
      ],
      "text/plain": [
       "        2021       2019       2010       2000      1990\n",
       "0    18,021     17,807     16,953     13,089     8,194 \n",
       "1        86         80         76         36        21 \n",
       "2        26         25         21         20        13 \n",
       "3       397        444        448        333       147 \n",
       "4        75         75         70         34        12 "
      ]
     },
     "execution_count": 5,
     "metadata": {},
     "output_type": "execute_result"
    }
   ],
   "source": [
    "children = children.drop(\"Location\", axis=1)\n",
    "children.head()"
   ]
  },
  {
   "cell_type": "code",
   "execution_count": 6,
   "metadata": {},
   "outputs": [],
   "source": [
    "for i in children.columns:\n",
    "\n",
    "    children[i] = children[i].str.strip()"
   ]
  },
  {
   "cell_type": "code",
   "execution_count": 7,
   "metadata": {},
   "outputs": [],
   "source": [
    "for i in children.columns:\n",
    "\n",
    "    children[i] = children[i].str.replace(\",\", \"\")"
   ]
  },
  {
   "cell_type": "code",
   "execution_count": 8,
   "metadata": {},
   "outputs": [
    {
     "data": {
      "text/html": [
       "<div>\n",
       "<style scoped>\n",
       "    .dataframe tbody tr th:only-of-type {\n",
       "        vertical-align: middle;\n",
       "    }\n",
       "\n",
       "    .dataframe tbody tr th {\n",
       "        vertical-align: top;\n",
       "    }\n",
       "\n",
       "    .dataframe thead th {\n",
       "        text-align: right;\n",
       "    }\n",
       "</style>\n",
       "<table border=\"1\" class=\"dataframe\">\n",
       "  <thead>\n",
       "    <tr style=\"text-align: right;\">\n",
       "      <th></th>\n",
       "      <th>2021</th>\n",
       "      <th>2019</th>\n",
       "      <th>2010</th>\n",
       "      <th>2000</th>\n",
       "      <th>1990</th>\n",
       "    </tr>\n",
       "  </thead>\n",
       "  <tbody>\n",
       "    <tr>\n",
       "      <th>0</th>\n",
       "      <td>18021</td>\n",
       "      <td>17807</td>\n",
       "      <td>16953</td>\n",
       "      <td>13089</td>\n",
       "      <td>8194</td>\n",
       "    </tr>\n",
       "    <tr>\n",
       "      <th>1</th>\n",
       "      <td>86</td>\n",
       "      <td>80</td>\n",
       "      <td>76</td>\n",
       "      <td>36</td>\n",
       "      <td>21</td>\n",
       "    </tr>\n",
       "    <tr>\n",
       "      <th>2</th>\n",
       "      <td>26</td>\n",
       "      <td>25</td>\n",
       "      <td>21</td>\n",
       "      <td>20</td>\n",
       "      <td>13</td>\n",
       "    </tr>\n",
       "    <tr>\n",
       "      <th>3</th>\n",
       "      <td>397</td>\n",
       "      <td>444</td>\n",
       "      <td>448</td>\n",
       "      <td>333</td>\n",
       "      <td>147</td>\n",
       "    </tr>\n",
       "    <tr>\n",
       "      <th>4</th>\n",
       "      <td>75</td>\n",
       "      <td>75</td>\n",
       "      <td>70</td>\n",
       "      <td>34</td>\n",
       "      <td>12</td>\n",
       "    </tr>\n",
       "  </tbody>\n",
       "</table>\n",
       "</div>"
      ],
      "text/plain": [
       "    2021   2019   2010   2000  1990\n",
       "0  18021  17807  16953  13089  8194\n",
       "1     86     80     76     36    21\n",
       "2     26     25     21     20    13\n",
       "3    397    444    448    333   147\n",
       "4     75     75     70     34    12"
      ]
     },
     "execution_count": 8,
     "metadata": {},
     "output_type": "execute_result"
    }
   ],
   "source": [
    "children.head()"
   ]
  },
  {
   "cell_type": "code",
   "execution_count": 9,
   "metadata": {},
   "outputs": [],
   "source": [
    "children = children.dropna().astype(float)"
   ]
  },
  {
   "cell_type": "code",
   "execution_count": 10,
   "metadata": {},
   "outputs": [],
   "source": [
    "children[\"Location\"] = childrenLocation"
   ]
  },
  {
   "cell_type": "code",
   "execution_count": 11,
   "metadata": {},
   "outputs": [
    {
     "data": {
      "text/html": [
       "<div>\n",
       "<style scoped>\n",
       "    .dataframe tbody tr th:only-of-type {\n",
       "        vertical-align: middle;\n",
       "    }\n",
       "\n",
       "    .dataframe tbody tr th {\n",
       "        vertical-align: top;\n",
       "    }\n",
       "\n",
       "    .dataframe thead th {\n",
       "        text-align: right;\n",
       "    }\n",
       "</style>\n",
       "<table border=\"1\" class=\"dataframe\">\n",
       "  <thead>\n",
       "    <tr style=\"text-align: right;\">\n",
       "      <th></th>\n",
       "      <th>2021</th>\n",
       "      <th>2019</th>\n",
       "      <th>2010</th>\n",
       "      <th>2000</th>\n",
       "      <th>1990</th>\n",
       "      <th>Location</th>\n",
       "    </tr>\n",
       "  </thead>\n",
       "  <tbody>\n",
       "    <tr>\n",
       "      <th>0</th>\n",
       "      <td>18021.0</td>\n",
       "      <td>17807.0</td>\n",
       "      <td>16953.0</td>\n",
       "      <td>13089.0</td>\n",
       "      <td>8194.0</td>\n",
       "      <td>United States</td>\n",
       "    </tr>\n",
       "    <tr>\n",
       "      <th>1</th>\n",
       "      <td>86.0</td>\n",
       "      <td>80.0</td>\n",
       "      <td>76.0</td>\n",
       "      <td>36.0</td>\n",
       "      <td>21.0</td>\n",
       "      <td>Alabama</td>\n",
       "    </tr>\n",
       "    <tr>\n",
       "      <th>2</th>\n",
       "      <td>26.0</td>\n",
       "      <td>25.0</td>\n",
       "      <td>21.0</td>\n",
       "      <td>20.0</td>\n",
       "      <td>13.0</td>\n",
       "      <td>Alaska</td>\n",
       "    </tr>\n",
       "    <tr>\n",
       "      <th>3</th>\n",
       "      <td>397.0</td>\n",
       "      <td>444.0</td>\n",
       "      <td>448.0</td>\n",
       "      <td>333.0</td>\n",
       "      <td>147.0</td>\n",
       "      <td>Arizona</td>\n",
       "    </tr>\n",
       "    <tr>\n",
       "      <th>4</th>\n",
       "      <td>75.0</td>\n",
       "      <td>75.0</td>\n",
       "      <td>70.0</td>\n",
       "      <td>34.0</td>\n",
       "      <td>12.0</td>\n",
       "      <td>Arkansas</td>\n",
       "    </tr>\n",
       "  </tbody>\n",
       "</table>\n",
       "</div>"
      ],
      "text/plain": [
       "      2021     2019     2010     2000    1990       Location\n",
       "0  18021.0  17807.0  16953.0  13089.0  8194.0  United States\n",
       "1     86.0     80.0     76.0     36.0    21.0        Alabama\n",
       "2     26.0     25.0     21.0     20.0    13.0         Alaska\n",
       "3    397.0    444.0    448.0    333.0   147.0        Arizona\n",
       "4     75.0     75.0     70.0     34.0    12.0       Arkansas"
      ]
     },
     "execution_count": 11,
     "metadata": {},
     "output_type": "execute_result"
    }
   ],
   "source": [
    "children.head()"
   ]
  },
  {
   "cell_type": "code",
   "execution_count": 12,
   "metadata": {},
   "outputs": [
    {
     "data": {
      "text/plain": [
       "(52, 6)"
      ]
     },
     "execution_count": 12,
     "metadata": {},
     "output_type": "execute_result"
    }
   ],
   "source": [
    "children.shape"
   ]
  },
  {
   "cell_type": "code",
   "execution_count": 13,
   "metadata": {},
   "outputs": [
    {
     "data": {
      "text/html": [
       "<div>\n",
       "<style scoped>\n",
       "    .dataframe tbody tr th:only-of-type {\n",
       "        vertical-align: middle;\n",
       "    }\n",
       "\n",
       "    .dataframe tbody tr th {\n",
       "        vertical-align: top;\n",
       "    }\n",
       "\n",
       "    .dataframe thead th {\n",
       "        text-align: right;\n",
       "    }\n",
       "</style>\n",
       "<table border=\"1\" class=\"dataframe\">\n",
       "  <thead>\n",
       "    <tr style=\"text-align: right;\">\n",
       "      <th></th>\n",
       "      <th>2021</th>\n",
       "      <th>2019</th>\n",
       "      <th>2010</th>\n",
       "      <th>2000</th>\n",
       "      <th>1990</th>\n",
       "      <th>Location</th>\n",
       "    </tr>\n",
       "  </thead>\n",
       "  <tbody>\n",
       "    <tr>\n",
       "      <th>0</th>\n",
       "      <td>18021.0</td>\n",
       "      <td>17807.0</td>\n",
       "      <td>16953.0</td>\n",
       "      <td>13089.0</td>\n",
       "      <td>8194.0</td>\n",
       "      <td>United States</td>\n",
       "    </tr>\n",
       "    <tr>\n",
       "      <th>1</th>\n",
       "      <td>86.0</td>\n",
       "      <td>80.0</td>\n",
       "      <td>76.0</td>\n",
       "      <td>36.0</td>\n",
       "      <td>21.0</td>\n",
       "      <td>Alabama</td>\n",
       "    </tr>\n",
       "    <tr>\n",
       "      <th>2</th>\n",
       "      <td>26.0</td>\n",
       "      <td>25.0</td>\n",
       "      <td>21.0</td>\n",
       "      <td>20.0</td>\n",
       "      <td>13.0</td>\n",
       "      <td>Alaska</td>\n",
       "    </tr>\n",
       "    <tr>\n",
       "      <th>3</th>\n",
       "      <td>397.0</td>\n",
       "      <td>444.0</td>\n",
       "      <td>448.0</td>\n",
       "      <td>333.0</td>\n",
       "      <td>147.0</td>\n",
       "      <td>Arizona</td>\n",
       "    </tr>\n",
       "    <tr>\n",
       "      <th>4</th>\n",
       "      <td>75.0</td>\n",
       "      <td>75.0</td>\n",
       "      <td>70.0</td>\n",
       "      <td>34.0</td>\n",
       "      <td>12.0</td>\n",
       "      <td>Arkansas</td>\n",
       "    </tr>\n",
       "  </tbody>\n",
       "</table>\n",
       "</div>"
      ],
      "text/plain": [
       "      2021     2019     2010     2000    1990       Location\n",
       "0  18021.0  17807.0  16953.0  13089.0  8194.0  United States\n",
       "1     86.0     80.0     76.0     36.0    21.0        Alabama\n",
       "2     26.0     25.0     21.0     20.0    13.0         Alaska\n",
       "3    397.0    444.0    448.0    333.0   147.0        Arizona\n",
       "4     75.0     75.0     70.0     34.0    12.0       Arkansas"
      ]
     },
     "execution_count": 13,
     "metadata": {},
     "output_type": "execute_result"
    }
   ],
   "source": [
    "children.head()"
   ]
  },
  {
   "cell_type": "code",
   "execution_count": 14,
   "metadata": {},
   "outputs": [
    {
     "data": {
      "text/plain": [
       "2021        float64\n",
       "2019        float64\n",
       "2010        float64\n",
       "2000        float64\n",
       "1990        float64\n",
       "Location     object\n",
       "dtype: object"
      ]
     },
     "execution_count": 14,
     "metadata": {},
     "output_type": "execute_result"
    }
   ],
   "source": [
    "children.dtypes"
   ]
  },
  {
   "cell_type": "code",
   "execution_count": 15,
   "metadata": {},
   "outputs": [],
   "source": [
    "# To save\n",
    "\n",
    "#children.to_csv(\"children_final.csv\")"
   ]
  },
  {
   "attachments": {},
   "cell_type": "markdown",
   "metadata": {},
   "source": [
    "---"
   ]
  },
  {
   "attachments": {},
   "cell_type": "markdown",
   "metadata": {},
   "source": [
    "# Book 2 Data Cleaning (Book 1 is almost cleaned the same way)"
   ]
  },
  {
   "attachments": {},
   "cell_type": "markdown",
   "metadata": {},
   "source": [
    "---"
   ]
  },
  {
   "cell_type": "code",
   "execution_count": 16,
   "metadata": {},
   "outputs": [],
   "source": [
    "book2 = pd.read_csv(\"book2.csv\")\n",
    "book2 = book2.drop([0,1], axis=0)"
   ]
  },
  {
   "cell_type": "code",
   "execution_count": 17,
   "metadata": {},
   "outputs": [
    {
     "data": {
      "text/html": [
       "<div>\n",
       "<style scoped>\n",
       "    .dataframe tbody tr th:only-of-type {\n",
       "        vertical-align: middle;\n",
       "    }\n",
       "\n",
       "    .dataframe tbody tr th {\n",
       "        vertical-align: top;\n",
       "    }\n",
       "\n",
       "    .dataframe thead th {\n",
       "        text-align: right;\n",
       "    }\n",
       "</style>\n",
       "<table border=\"1\" class=\"dataframe\">\n",
       "  <thead>\n",
       "    <tr style=\"text-align: right;\">\n",
       "      <th></th>\n",
       "      <th>Region and Country of Birth</th>\n",
       "      <th>1960</th>\n",
       "      <th>1970</th>\n",
       "      <th>1980</th>\n",
       "      <th>1990</th>\n",
       "    </tr>\n",
       "  </thead>\n",
       "  <tbody>\n",
       "    <tr>\n",
       "      <th>2</th>\n",
       "      <td>Reported by region and/or country</td>\n",
       "      <td>9,678,201</td>\n",
       "      <td>9,303,570</td>\n",
       "      <td>13,192,563</td>\n",
       "      <td>18,959,158</td>\n",
       "    </tr>\n",
       "    <tr>\n",
       "      <th>3</th>\n",
       "      <td>Europe</td>\n",
       "      <td>7,256,311</td>\n",
       "      <td>5,740,891</td>\n",
       "      <td>5,149,572</td>\n",
       "      <td>4,350,403</td>\n",
       "    </tr>\n",
       "    <tr>\n",
       "      <th>4</th>\n",
       "      <td>Northern and Western Europe</td>\n",
       "      <td>3,334,971</td>\n",
       "      <td>2,629,200</td>\n",
       "      <td>2,384,257</td>\n",
       "      <td>2,058,853</td>\n",
       "    </tr>\n",
       "    <tr>\n",
       "      <th>5</th>\n",
       "      <td>Northern Europe</td>\n",
       "      <td>1,694,430</td>\n",
       "      <td>1,271,591</td>\n",
       "      <td>1,083,499</td>\n",
       "      <td>968,271</td>\n",
       "    </tr>\n",
       "    <tr>\n",
       "      <th>6</th>\n",
       "      <td>United Kingdom</td>\n",
       "      <td>833,055</td>\n",
       "      <td>686,099</td>\n",
       "      <td>669,149</td>\n",
       "      <td>640,145</td>\n",
       "    </tr>\n",
       "    <tr>\n",
       "      <th>7</th>\n",
       "      <td>Ireland</td>\n",
       "      <td>338,722</td>\n",
       "      <td>251,375</td>\n",
       "      <td>197,817</td>\n",
       "      <td>169,827</td>\n",
       "    </tr>\n",
       "    <tr>\n",
       "      <th>8</th>\n",
       "      <td>Scandinavia</td>\n",
       "      <td>522,653</td>\n",
       "      <td>334,117</td>\n",
       "      <td>216,533</td>\n",
       "      <td>158,299</td>\n",
       "    </tr>\n",
       "    <tr>\n",
       "      <th>9</th>\n",
       "      <td>Denmark</td>\n",
       "      <td>85,060</td>\n",
       "      <td>61,410</td>\n",
       "      <td>42,732</td>\n",
       "      <td>34,999</td>\n",
       "    </tr>\n",
       "    <tr>\n",
       "      <th>10</th>\n",
       "      <td>Finland</td>\n",
       "      <td>67,624</td>\n",
       "      <td>45,499</td>\n",
       "      <td>29,172</td>\n",
       "      <td>22,313</td>\n",
       "    </tr>\n",
       "    <tr>\n",
       "      <th>11</th>\n",
       "      <td>Iceland</td>\n",
       "      <td>2,780</td>\n",
       "      <td>2,895</td>\n",
       "      <td>4,156</td>\n",
       "      <td>5,071</td>\n",
       "    </tr>\n",
       "    <tr>\n",
       "      <th>12</th>\n",
       "      <td>Norway</td>\n",
       "      <td>152,698</td>\n",
       "      <td>97,243</td>\n",
       "      <td>63,316</td>\n",
       "      <td>42,240</td>\n",
       "    </tr>\n",
       "    <tr>\n",
       "      <th>13</th>\n",
       "      <td>Sweden</td>\n",
       "      <td>214,491</td>\n",
       "      <td>127,070</td>\n",
       "      <td>77,157</td>\n",
       "      <td>53,676</td>\n",
       "    </tr>\n",
       "    <tr>\n",
       "      <th>14</th>\n",
       "      <td>Western Europe</td>\n",
       "      <td>1,640,541</td>\n",
       "      <td>1,357,609</td>\n",
       "      <td>1,300,758</td>\n",
       "      <td>1,090,582</td>\n",
       "    </tr>\n",
       "    <tr>\n",
       "      <th>15</th>\n",
       "      <td>Belgium</td>\n",
       "      <td>50,294</td>\n",
       "      <td>41,412</td>\n",
       "      <td>36,487</td>\n",
       "      <td>34,366</td>\n",
       "    </tr>\n",
       "    <tr>\n",
       "      <th>16</th>\n",
       "      <td>Luxembourg</td>\n",
       "      <td>4,360</td>\n",
       "      <td>3,531</td>\n",
       "      <td>3,125</td>\n",
       "      <td>2,053</td>\n",
       "    </tr>\n",
       "    <tr>\n",
       "      <th>17</th>\n",
       "      <td>Netherlands</td>\n",
       "      <td>118,415</td>\n",
       "      <td>110,570</td>\n",
       "      <td>103,136</td>\n",
       "      <td>96,198</td>\n",
       "    </tr>\n",
       "    <tr>\n",
       "      <th>18</th>\n",
       "      <td>Austria</td>\n",
       "      <td>304,507</td>\n",
       "      <td>214,014</td>\n",
       "      <td>145,607</td>\n",
       "      <td>87,673</td>\n",
       "    </tr>\n",
       "    <tr>\n",
       "      <th>19</th>\n",
       "      <td>France</td>\n",
       "      <td>111,582</td>\n",
       "      <td>105,385</td>\n",
       "      <td>120,215</td>\n",
       "      <td>119,233</td>\n",
       "    </tr>\n",
       "    <tr>\n",
       "      <th>20</th>\n",
       "      <td>Germany</td>\n",
       "      <td>989,815</td>\n",
       "      <td>832,965</td>\n",
       "      <td>849,384</td>\n",
       "      <td>711,929</td>\n",
       "    </tr>\n",
       "    <tr>\n",
       "      <th>21</th>\n",
       "      <td>Switzerland</td>\n",
       "      <td>61,568</td>\n",
       "      <td>49,732</td>\n",
       "      <td>42,804</td>\n",
       "      <td>39,130</td>\n",
       "    </tr>\n",
       "  </tbody>\n",
       "</table>\n",
       "</div>"
      ],
      "text/plain": [
       "            Region and Country of Birth       1960       1970        1980  \\\n",
       "2     Reported by region and/or country  9,678,201  9,303,570  13,192,563   \n",
       "3                                Europe  7,256,311  5,740,891   5,149,572   \n",
       "4           Northern and Western Europe  3,334,971  2,629,200   2,384,257   \n",
       "5                       Northern Europe  1,694,430  1,271,591   1,083,499   \n",
       "6                        United Kingdom    833,055    686,099     669,149   \n",
       "7                               Ireland    338,722    251,375     197,817   \n",
       "8                           Scandinavia    522,653    334,117     216,533   \n",
       "9                               Denmark     85,060     61,410      42,732   \n",
       "10                              Finland     67,624     45,499      29,172   \n",
       "11                              Iceland      2,780      2,895       4,156   \n",
       "12                               Norway    152,698     97,243      63,316   \n",
       "13                               Sweden    214,491    127,070      77,157   \n",
       "14                       Western Europe  1,640,541  1,357,609   1,300,758   \n",
       "15                              Belgium     50,294     41,412      36,487   \n",
       "16                           Luxembourg      4,360      3,531       3,125   \n",
       "17                          Netherlands    118,415    110,570     103,136   \n",
       "18                              Austria    304,507    214,014     145,607   \n",
       "19                               France    111,582    105,385     120,215   \n",
       "20                              Germany    989,815    832,965     849,384   \n",
       "21                          Switzerland     61,568     49,732      42,804   \n",
       "\n",
       "          1990  \n",
       "2   18,959,158  \n",
       "3    4,350,403  \n",
       "4    2,058,853  \n",
       "5      968,271  \n",
       "6      640,145  \n",
       "7      169,827  \n",
       "8      158,299  \n",
       "9       34,999  \n",
       "10      22,313  \n",
       "11       5,071  \n",
       "12      42,240  \n",
       "13      53,676  \n",
       "14   1,090,582  \n",
       "15      34,366  \n",
       "16       2,053  \n",
       "17      96,198  \n",
       "18      87,673  \n",
       "19     119,233  \n",
       "20     711,929  \n",
       "21      39,130  "
      ]
     },
     "execution_count": 17,
     "metadata": {},
     "output_type": "execute_result"
    }
   ],
   "source": [
    "book2.head(20)"
   ]
  },
  {
   "cell_type": "code",
   "execution_count": 18,
   "metadata": {},
   "outputs": [
    {
     "data": {
      "text/plain": [
       "'\\xa0\\xa0\\xa0\\xa0\\xa0\\xa0\\xa0\\xa0\\xa0\\xa0\\xa0\\xa0Dominica'"
      ]
     },
     "execution_count": 18,
     "metadata": {},
     "output_type": "execute_result"
    }
   ],
   "source": [
    "book2.iloc[135,0]"
   ]
  },
  {
   "cell_type": "code",
   "execution_count": 19,
   "metadata": {},
   "outputs": [
    {
     "data": {
      "text/html": [
       "<div>\n",
       "<style scoped>\n",
       "    .dataframe tbody tr th:only-of-type {\n",
       "        vertical-align: middle;\n",
       "    }\n",
       "\n",
       "    .dataframe tbody tr th {\n",
       "        vertical-align: top;\n",
       "    }\n",
       "\n",
       "    .dataframe thead th {\n",
       "        text-align: right;\n",
       "    }\n",
       "</style>\n",
       "<table border=\"1\" class=\"dataframe\">\n",
       "  <thead>\n",
       "    <tr style=\"text-align: right;\">\n",
       "      <th></th>\n",
       "      <th>Region and Country of Birth</th>\n",
       "      <th>1960</th>\n",
       "      <th>1970</th>\n",
       "      <th>1980</th>\n",
       "      <th>1990</th>\n",
       "    </tr>\n",
       "  </thead>\n",
       "  <tbody>\n",
       "    <tr>\n",
       "      <th>2</th>\n",
       "      <td>Reported by region and/or country</td>\n",
       "      <td>9,678,201</td>\n",
       "      <td>9,303,570</td>\n",
       "      <td>13,192,563</td>\n",
       "      <td>18,959,158</td>\n",
       "    </tr>\n",
       "    <tr>\n",
       "      <th>3</th>\n",
       "      <td>Europe</td>\n",
       "      <td>7,256,311</td>\n",
       "      <td>5,740,891</td>\n",
       "      <td>5,149,572</td>\n",
       "      <td>4,350,403</td>\n",
       "    </tr>\n",
       "    <tr>\n",
       "      <th>4</th>\n",
       "      <td>Northern and Western Europe</td>\n",
       "      <td>3,334,971</td>\n",
       "      <td>2,629,200</td>\n",
       "      <td>2,384,257</td>\n",
       "      <td>2,058,853</td>\n",
       "    </tr>\n",
       "    <tr>\n",
       "      <th>5</th>\n",
       "      <td>Northern Europe</td>\n",
       "      <td>1,694,430</td>\n",
       "      <td>1,271,591</td>\n",
       "      <td>1,083,499</td>\n",
       "      <td>968,271</td>\n",
       "    </tr>\n",
       "    <tr>\n",
       "      <th>6</th>\n",
       "      <td>United Kingdom</td>\n",
       "      <td>833,055</td>\n",
       "      <td>686,099</td>\n",
       "      <td>669,149</td>\n",
       "      <td>640,145</td>\n",
       "    </tr>\n",
       "    <tr>\n",
       "      <th>7</th>\n",
       "      <td>Ireland</td>\n",
       "      <td>338,722</td>\n",
       "      <td>251,375</td>\n",
       "      <td>197,817</td>\n",
       "      <td>169,827</td>\n",
       "    </tr>\n",
       "    <tr>\n",
       "      <th>8</th>\n",
       "      <td>Scandinavia</td>\n",
       "      <td>522,653</td>\n",
       "      <td>334,117</td>\n",
       "      <td>216,533</td>\n",
       "      <td>158,299</td>\n",
       "    </tr>\n",
       "    <tr>\n",
       "      <th>9</th>\n",
       "      <td>Denmark</td>\n",
       "      <td>85,060</td>\n",
       "      <td>61,410</td>\n",
       "      <td>42,732</td>\n",
       "      <td>34,999</td>\n",
       "    </tr>\n",
       "    <tr>\n",
       "      <th>10</th>\n",
       "      <td>Finland</td>\n",
       "      <td>67,624</td>\n",
       "      <td>45,499</td>\n",
       "      <td>29,172</td>\n",
       "      <td>22,313</td>\n",
       "    </tr>\n",
       "    <tr>\n",
       "      <th>11</th>\n",
       "      <td>Iceland</td>\n",
       "      <td>2,780</td>\n",
       "      <td>2,895</td>\n",
       "      <td>4,156</td>\n",
       "      <td>5,071</td>\n",
       "    </tr>\n",
       "    <tr>\n",
       "      <th>12</th>\n",
       "      <td>Norway</td>\n",
       "      <td>152,698</td>\n",
       "      <td>97,243</td>\n",
       "      <td>63,316</td>\n",
       "      <td>42,240</td>\n",
       "    </tr>\n",
       "    <tr>\n",
       "      <th>13</th>\n",
       "      <td>Sweden</td>\n",
       "      <td>214,491</td>\n",
       "      <td>127,070</td>\n",
       "      <td>77,157</td>\n",
       "      <td>53,676</td>\n",
       "    </tr>\n",
       "    <tr>\n",
       "      <th>14</th>\n",
       "      <td>Western Europe</td>\n",
       "      <td>1,640,541</td>\n",
       "      <td>1,357,609</td>\n",
       "      <td>1,300,758</td>\n",
       "      <td>1,090,582</td>\n",
       "    </tr>\n",
       "    <tr>\n",
       "      <th>15</th>\n",
       "      <td>Belgium</td>\n",
       "      <td>50,294</td>\n",
       "      <td>41,412</td>\n",
       "      <td>36,487</td>\n",
       "      <td>34,366</td>\n",
       "    </tr>\n",
       "    <tr>\n",
       "      <th>16</th>\n",
       "      <td>Luxembourg</td>\n",
       "      <td>4,360</td>\n",
       "      <td>3,531</td>\n",
       "      <td>3,125</td>\n",
       "      <td>2,053</td>\n",
       "    </tr>\n",
       "  </tbody>\n",
       "</table>\n",
       "</div>"
      ],
      "text/plain": [
       "            Region and Country of Birth       1960       1970        1980  \\\n",
       "2     Reported by region and/or country  9,678,201  9,303,570  13,192,563   \n",
       "3                                Europe  7,256,311  5,740,891   5,149,572   \n",
       "4           Northern and Western Europe  3,334,971  2,629,200   2,384,257   \n",
       "5                       Northern Europe  1,694,430  1,271,591   1,083,499   \n",
       "6                        United Kingdom    833,055    686,099     669,149   \n",
       "7                               Ireland    338,722    251,375     197,817   \n",
       "8                           Scandinavia    522,653    334,117     216,533   \n",
       "9                               Denmark     85,060     61,410      42,732   \n",
       "10                              Finland     67,624     45,499      29,172   \n",
       "11                              Iceland      2,780      2,895       4,156   \n",
       "12                               Norway    152,698     97,243      63,316   \n",
       "13                               Sweden    214,491    127,070      77,157   \n",
       "14                       Western Europe  1,640,541  1,357,609   1,300,758   \n",
       "15                              Belgium     50,294     41,412      36,487   \n",
       "16                           Luxembourg      4,360      3,531       3,125   \n",
       "\n",
       "          1990  \n",
       "2   18,959,158  \n",
       "3    4,350,403  \n",
       "4    2,058,853  \n",
       "5      968,271  \n",
       "6      640,145  \n",
       "7      169,827  \n",
       "8      158,299  \n",
       "9       34,999  \n",
       "10      22,313  \n",
       "11       5,071  \n",
       "12      42,240  \n",
       "13      53,676  \n",
       "14   1,090,582  \n",
       "15      34,366  \n",
       "16       2,053  "
      ]
     },
     "execution_count": 19,
     "metadata": {},
     "output_type": "execute_result"
    }
   ],
   "source": [
    "book2 = book2.replace('(na)', np.nan)\n",
    "book2.head(15)"
   ]
  },
  {
   "cell_type": "code",
   "execution_count": 20,
   "metadata": {},
   "outputs": [
    {
     "data": {
      "text/html": [
       "<div>\n",
       "<style scoped>\n",
       "    .dataframe tbody tr th:only-of-type {\n",
       "        vertical-align: middle;\n",
       "    }\n",
       "\n",
       "    .dataframe tbody tr th {\n",
       "        vertical-align: top;\n",
       "    }\n",
       "\n",
       "    .dataframe thead th {\n",
       "        text-align: right;\n",
       "    }\n",
       "</style>\n",
       "<table border=\"1\" class=\"dataframe\">\n",
       "  <thead>\n",
       "    <tr style=\"text-align: right;\">\n",
       "      <th></th>\n",
       "      <th>Region and Country of Birth</th>\n",
       "      <th>1960</th>\n",
       "      <th>1970</th>\n",
       "      <th>1980</th>\n",
       "      <th>1990</th>\n",
       "    </tr>\n",
       "  </thead>\n",
       "  <tbody>\n",
       "    <tr>\n",
       "      <th>2</th>\n",
       "      <td>Reported by region and/or country</td>\n",
       "      <td>9,678,201</td>\n",
       "      <td>9,303,570</td>\n",
       "      <td>13,192,563</td>\n",
       "      <td>18,959,158</td>\n",
       "    </tr>\n",
       "    <tr>\n",
       "      <th>3</th>\n",
       "      <td>Europe</td>\n",
       "      <td>7,256,311</td>\n",
       "      <td>5,740,891</td>\n",
       "      <td>5,149,572</td>\n",
       "      <td>4,350,403</td>\n",
       "    </tr>\n",
       "    <tr>\n",
       "      <th>4</th>\n",
       "      <td>Northern and Western Europe</td>\n",
       "      <td>3,334,971</td>\n",
       "      <td>2,629,200</td>\n",
       "      <td>2,384,257</td>\n",
       "      <td>2,058,853</td>\n",
       "    </tr>\n",
       "    <tr>\n",
       "      <th>5</th>\n",
       "      <td>Northern Europe</td>\n",
       "      <td>1,694,430</td>\n",
       "      <td>1,271,591</td>\n",
       "      <td>1,083,499</td>\n",
       "      <td>968,271</td>\n",
       "    </tr>\n",
       "    <tr>\n",
       "      <th>6</th>\n",
       "      <td>United Kingdom</td>\n",
       "      <td>833,055</td>\n",
       "      <td>686,099</td>\n",
       "      <td>669,149</td>\n",
       "      <td>640,145</td>\n",
       "    </tr>\n",
       "    <tr>\n",
       "      <th>7</th>\n",
       "      <td>Ireland</td>\n",
       "      <td>338,722</td>\n",
       "      <td>251,375</td>\n",
       "      <td>197,817</td>\n",
       "      <td>169,827</td>\n",
       "    </tr>\n",
       "    <tr>\n",
       "      <th>8</th>\n",
       "      <td>Scandinavia</td>\n",
       "      <td>522,653</td>\n",
       "      <td>334,117</td>\n",
       "      <td>216,533</td>\n",
       "      <td>158,299</td>\n",
       "    </tr>\n",
       "    <tr>\n",
       "      <th>9</th>\n",
       "      <td>Denmark</td>\n",
       "      <td>85,060</td>\n",
       "      <td>61,410</td>\n",
       "      <td>42,732</td>\n",
       "      <td>34,999</td>\n",
       "    </tr>\n",
       "    <tr>\n",
       "      <th>10</th>\n",
       "      <td>Finland</td>\n",
       "      <td>67,624</td>\n",
       "      <td>45,499</td>\n",
       "      <td>29,172</td>\n",
       "      <td>22,313</td>\n",
       "    </tr>\n",
       "    <tr>\n",
       "      <th>11</th>\n",
       "      <td>Iceland</td>\n",
       "      <td>2,780</td>\n",
       "      <td>2,895</td>\n",
       "      <td>4,156</td>\n",
       "      <td>5,071</td>\n",
       "    </tr>\n",
       "    <tr>\n",
       "      <th>12</th>\n",
       "      <td>Norway</td>\n",
       "      <td>152,698</td>\n",
       "      <td>97,243</td>\n",
       "      <td>63,316</td>\n",
       "      <td>42,240</td>\n",
       "    </tr>\n",
       "    <tr>\n",
       "      <th>13</th>\n",
       "      <td>Sweden</td>\n",
       "      <td>214,491</td>\n",
       "      <td>127,070</td>\n",
       "      <td>77,157</td>\n",
       "      <td>53,676</td>\n",
       "    </tr>\n",
       "    <tr>\n",
       "      <th>14</th>\n",
       "      <td>Western Europe</td>\n",
       "      <td>1,640,541</td>\n",
       "      <td>1,357,609</td>\n",
       "      <td>1,300,758</td>\n",
       "      <td>1,090,582</td>\n",
       "    </tr>\n",
       "    <tr>\n",
       "      <th>15</th>\n",
       "      <td>Belgium</td>\n",
       "      <td>50,294</td>\n",
       "      <td>41,412</td>\n",
       "      <td>36,487</td>\n",
       "      <td>34,366</td>\n",
       "    </tr>\n",
       "    <tr>\n",
       "      <th>16</th>\n",
       "      <td>Luxembourg</td>\n",
       "      <td>4,360</td>\n",
       "      <td>3,531</td>\n",
       "      <td>3,125</td>\n",
       "      <td>2,053</td>\n",
       "    </tr>\n",
       "  </tbody>\n",
       "</table>\n",
       "</div>"
      ],
      "text/plain": [
       "          Region and Country of Birth       1960       1970        1980  \\\n",
       "2   Reported by region and/or country  9,678,201  9,303,570  13,192,563   \n",
       "3                              Europe  7,256,311  5,740,891   5,149,572   \n",
       "4         Northern and Western Europe  3,334,971  2,629,200   2,384,257   \n",
       "5                     Northern Europe  1,694,430  1,271,591   1,083,499   \n",
       "6                      United Kingdom    833,055    686,099     669,149   \n",
       "7                             Ireland    338,722    251,375     197,817   \n",
       "8                         Scandinavia    522,653    334,117     216,533   \n",
       "9                             Denmark     85,060     61,410      42,732   \n",
       "10                            Finland     67,624     45,499      29,172   \n",
       "11                            Iceland      2,780      2,895       4,156   \n",
       "12                             Norway    152,698     97,243      63,316   \n",
       "13                             Sweden    214,491    127,070      77,157   \n",
       "14                     Western Europe  1,640,541  1,357,609   1,300,758   \n",
       "15                            Belgium     50,294     41,412      36,487   \n",
       "16                         Luxembourg      4,360      3,531       3,125   \n",
       "\n",
       "          1990  \n",
       "2   18,959,158  \n",
       "3    4,350,403  \n",
       "4    2,058,853  \n",
       "5      968,271  \n",
       "6      640,145  \n",
       "7      169,827  \n",
       "8      158,299  \n",
       "9       34,999  \n",
       "10      22,313  \n",
       "11       5,071  \n",
       "12      42,240  \n",
       "13      53,676  \n",
       "14   1,090,582  \n",
       "15      34,366  \n",
       "16       2,053  "
      ]
     },
     "execution_count": 20,
     "metadata": {},
     "output_type": "execute_result"
    }
   ],
   "source": [
    "book2[\"Region and Country of Birth\"] = book2[\"Region and Country of Birth\"].str.replace(\"\\xa0\", \"\")\n",
    "book2.head(15)"
   ]
  },
  {
   "cell_type": "code",
   "execution_count": 21,
   "metadata": {},
   "outputs": [
    {
     "data": {
      "text/plain": [
       "'Dominica'"
      ]
     },
     "execution_count": 21,
     "metadata": {},
     "output_type": "execute_result"
    }
   ],
   "source": [
    "book2.iloc[135,0]"
   ]
  },
  {
   "cell_type": "code",
   "execution_count": 22,
   "metadata": {},
   "outputs": [
    {
     "data": {
      "text/plain": [
       "(179, 5)"
      ]
     },
     "execution_count": 22,
     "metadata": {},
     "output_type": "execute_result"
    }
   ],
   "source": [
    "book2.shape"
   ]
  },
  {
   "cell_type": "code",
   "execution_count": 23,
   "metadata": {},
   "outputs": [],
   "source": [
    "book2_countries = book2[\"Region and Country of Birth\"]"
   ]
  },
  {
   "cell_type": "code",
   "execution_count": 24,
   "metadata": {},
   "outputs": [
    {
     "data": {
      "text/html": [
       "<div>\n",
       "<style scoped>\n",
       "    .dataframe tbody tr th:only-of-type {\n",
       "        vertical-align: middle;\n",
       "    }\n",
       "\n",
       "    .dataframe tbody tr th {\n",
       "        vertical-align: top;\n",
       "    }\n",
       "\n",
       "    .dataframe thead th {\n",
       "        text-align: right;\n",
       "    }\n",
       "</style>\n",
       "<table border=\"1\" class=\"dataframe\">\n",
       "  <thead>\n",
       "    <tr style=\"text-align: right;\">\n",
       "      <th></th>\n",
       "      <th>1960</th>\n",
       "      <th>1970</th>\n",
       "      <th>1980</th>\n",
       "      <th>1990</th>\n",
       "    </tr>\n",
       "  </thead>\n",
       "  <tbody>\n",
       "    <tr>\n",
       "      <th>2</th>\n",
       "      <td>9,678,201</td>\n",
       "      <td>9,303,570</td>\n",
       "      <td>13,192,563</td>\n",
       "      <td>18,959,158</td>\n",
       "    </tr>\n",
       "    <tr>\n",
       "      <th>3</th>\n",
       "      <td>7,256,311</td>\n",
       "      <td>5,740,891</td>\n",
       "      <td>5,149,572</td>\n",
       "      <td>4,350,403</td>\n",
       "    </tr>\n",
       "    <tr>\n",
       "      <th>4</th>\n",
       "      <td>3,334,971</td>\n",
       "      <td>2,629,200</td>\n",
       "      <td>2,384,257</td>\n",
       "      <td>2,058,853</td>\n",
       "    </tr>\n",
       "    <tr>\n",
       "      <th>5</th>\n",
       "      <td>1,694,430</td>\n",
       "      <td>1,271,591</td>\n",
       "      <td>1,083,499</td>\n",
       "      <td>968,271</td>\n",
       "    </tr>\n",
       "    <tr>\n",
       "      <th>6</th>\n",
       "      <td>833,055</td>\n",
       "      <td>686,099</td>\n",
       "      <td>669,149</td>\n",
       "      <td>640,145</td>\n",
       "    </tr>\n",
       "  </tbody>\n",
       "</table>\n",
       "</div>"
      ],
      "text/plain": [
       "        1960       1970        1980        1990\n",
       "2  9,678,201  9,303,570  13,192,563  18,959,158\n",
       "3  7,256,311  5,740,891   5,149,572   4,350,403\n",
       "4  3,334,971  2,629,200   2,384,257   2,058,853\n",
       "5  1,694,430  1,271,591   1,083,499     968,271\n",
       "6    833,055    686,099     669,149     640,145"
      ]
     },
     "execution_count": 24,
     "metadata": {},
     "output_type": "execute_result"
    }
   ],
   "source": [
    "book2 = book2.drop(\"Region and Country of Birth\", axis=1)\n",
    "book2.head()"
   ]
  },
  {
   "cell_type": "code",
   "execution_count": 25,
   "metadata": {},
   "outputs": [],
   "source": [
    "for i in book2.columns:\n",
    "\n",
    "    book2[i] = book2[i].str.strip()"
   ]
  },
  {
   "cell_type": "code",
   "execution_count": 26,
   "metadata": {},
   "outputs": [],
   "source": [
    "for i in book2.columns:\n",
    "\n",
    "    book2[i] = book2[i].str.replace(\",\", \"\")"
   ]
  },
  {
   "cell_type": "code",
   "execution_count": 27,
   "metadata": {},
   "outputs": [
    {
     "data": {
      "text/html": [
       "<div>\n",
       "<style scoped>\n",
       "    .dataframe tbody tr th:only-of-type {\n",
       "        vertical-align: middle;\n",
       "    }\n",
       "\n",
       "    .dataframe tbody tr th {\n",
       "        vertical-align: top;\n",
       "    }\n",
       "\n",
       "    .dataframe thead th {\n",
       "        text-align: right;\n",
       "    }\n",
       "</style>\n",
       "<table border=\"1\" class=\"dataframe\">\n",
       "  <thead>\n",
       "    <tr style=\"text-align: right;\">\n",
       "      <th></th>\n",
       "      <th>1960</th>\n",
       "      <th>1970</th>\n",
       "      <th>1980</th>\n",
       "      <th>1990</th>\n",
       "    </tr>\n",
       "  </thead>\n",
       "  <tbody>\n",
       "    <tr>\n",
       "      <th>2</th>\n",
       "      <td>9678201</td>\n",
       "      <td>9303570</td>\n",
       "      <td>13192563</td>\n",
       "      <td>18959158</td>\n",
       "    </tr>\n",
       "    <tr>\n",
       "      <th>3</th>\n",
       "      <td>7256311</td>\n",
       "      <td>5740891</td>\n",
       "      <td>5149572</td>\n",
       "      <td>4350403</td>\n",
       "    </tr>\n",
       "    <tr>\n",
       "      <th>4</th>\n",
       "      <td>3334971</td>\n",
       "      <td>2629200</td>\n",
       "      <td>2384257</td>\n",
       "      <td>2058853</td>\n",
       "    </tr>\n",
       "    <tr>\n",
       "      <th>5</th>\n",
       "      <td>1694430</td>\n",
       "      <td>1271591</td>\n",
       "      <td>1083499</td>\n",
       "      <td>968271</td>\n",
       "    </tr>\n",
       "    <tr>\n",
       "      <th>6</th>\n",
       "      <td>833055</td>\n",
       "      <td>686099</td>\n",
       "      <td>669149</td>\n",
       "      <td>640145</td>\n",
       "    </tr>\n",
       "  </tbody>\n",
       "</table>\n",
       "</div>"
      ],
      "text/plain": [
       "      1960     1970      1980      1990\n",
       "2  9678201  9303570  13192563  18959158\n",
       "3  7256311  5740891   5149572   4350403\n",
       "4  3334971  2629200   2384257   2058853\n",
       "5  1694430  1271591   1083499    968271\n",
       "6   833055   686099    669149    640145"
      ]
     },
     "execution_count": 27,
     "metadata": {},
     "output_type": "execute_result"
    }
   ],
   "source": [
    "book2.head()"
   ]
  },
  {
   "cell_type": "code",
   "execution_count": 28,
   "metadata": {},
   "outputs": [],
   "source": [
    "book2[\"Region and Country of Birth\"] = book2_countries"
   ]
  },
  {
   "cell_type": "code",
   "execution_count": 29,
   "metadata": {},
   "outputs": [
    {
     "data": {
      "text/html": [
       "<div>\n",
       "<style scoped>\n",
       "    .dataframe tbody tr th:only-of-type {\n",
       "        vertical-align: middle;\n",
       "    }\n",
       "\n",
       "    .dataframe tbody tr th {\n",
       "        vertical-align: top;\n",
       "    }\n",
       "\n",
       "    .dataframe thead th {\n",
       "        text-align: right;\n",
       "    }\n",
       "</style>\n",
       "<table border=\"1\" class=\"dataframe\">\n",
       "  <thead>\n",
       "    <tr style=\"text-align: right;\">\n",
       "      <th></th>\n",
       "      <th>1960</th>\n",
       "      <th>1970</th>\n",
       "      <th>1980</th>\n",
       "      <th>1990</th>\n",
       "      <th>Region and Country of Birth</th>\n",
       "    </tr>\n",
       "  </thead>\n",
       "  <tbody>\n",
       "    <tr>\n",
       "      <th>2</th>\n",
       "      <td>9678201</td>\n",
       "      <td>9303570</td>\n",
       "      <td>13192563</td>\n",
       "      <td>18959158</td>\n",
       "      <td>Reported by region and/or country</td>\n",
       "    </tr>\n",
       "    <tr>\n",
       "      <th>3</th>\n",
       "      <td>7256311</td>\n",
       "      <td>5740891</td>\n",
       "      <td>5149572</td>\n",
       "      <td>4350403</td>\n",
       "      <td>Europe</td>\n",
       "    </tr>\n",
       "    <tr>\n",
       "      <th>4</th>\n",
       "      <td>3334971</td>\n",
       "      <td>2629200</td>\n",
       "      <td>2384257</td>\n",
       "      <td>2058853</td>\n",
       "      <td>Northern and Western Europe</td>\n",
       "    </tr>\n",
       "    <tr>\n",
       "      <th>5</th>\n",
       "      <td>1694430</td>\n",
       "      <td>1271591</td>\n",
       "      <td>1083499</td>\n",
       "      <td>968271</td>\n",
       "      <td>Northern Europe</td>\n",
       "    </tr>\n",
       "    <tr>\n",
       "      <th>6</th>\n",
       "      <td>833055</td>\n",
       "      <td>686099</td>\n",
       "      <td>669149</td>\n",
       "      <td>640145</td>\n",
       "      <td>United Kingdom</td>\n",
       "    </tr>\n",
       "  </tbody>\n",
       "</table>\n",
       "</div>"
      ],
      "text/plain": [
       "      1960     1970      1980      1990        Region and Country of Birth\n",
       "2  9678201  9303570  13192563  18959158  Reported by region and/or country\n",
       "3  7256311  5740891   5149572   4350403                             Europe\n",
       "4  3334971  2629200   2384257   2058853        Northern and Western Europe\n",
       "5  1694430  1271591   1083499    968271                    Northern Europe\n",
       "6   833055   686099    669149    640145                     United Kingdom"
      ]
     },
     "execution_count": 29,
     "metadata": {},
     "output_type": "execute_result"
    }
   ],
   "source": [
    "book2.head()"
   ]
  },
  {
   "cell_type": "code",
   "execution_count": 30,
   "metadata": {},
   "outputs": [],
   "source": [
    "book2 = book2.dropna()"
   ]
  },
  {
   "cell_type": "code",
   "execution_count": 31,
   "metadata": {},
   "outputs": [
    {
     "data": {
      "text/plain": [
       "(96, 5)"
      ]
     },
     "execution_count": 31,
     "metadata": {},
     "output_type": "execute_result"
    }
   ],
   "source": [
    "book2.shape"
   ]
  },
  {
   "cell_type": "code",
   "execution_count": 32,
   "metadata": {},
   "outputs": [],
   "source": [
    "book2_countries = book2[\"Region and Country of Birth\"]"
   ]
  },
  {
   "cell_type": "code",
   "execution_count": 33,
   "metadata": {},
   "outputs": [
    {
     "data": {
      "text/html": [
       "<div>\n",
       "<style scoped>\n",
       "    .dataframe tbody tr th:only-of-type {\n",
       "        vertical-align: middle;\n",
       "    }\n",
       "\n",
       "    .dataframe tbody tr th {\n",
       "        vertical-align: top;\n",
       "    }\n",
       "\n",
       "    .dataframe thead th {\n",
       "        text-align: right;\n",
       "    }\n",
       "</style>\n",
       "<table border=\"1\" class=\"dataframe\">\n",
       "  <thead>\n",
       "    <tr style=\"text-align: right;\">\n",
       "      <th></th>\n",
       "      <th>1960</th>\n",
       "      <th>1970</th>\n",
       "      <th>1980</th>\n",
       "      <th>1990</th>\n",
       "    </tr>\n",
       "  </thead>\n",
       "  <tbody>\n",
       "    <tr>\n",
       "      <th>2</th>\n",
       "      <td>9678201</td>\n",
       "      <td>9303570</td>\n",
       "      <td>13192563</td>\n",
       "      <td>18959158</td>\n",
       "    </tr>\n",
       "    <tr>\n",
       "      <th>3</th>\n",
       "      <td>7256311</td>\n",
       "      <td>5740891</td>\n",
       "      <td>5149572</td>\n",
       "      <td>4350403</td>\n",
       "    </tr>\n",
       "    <tr>\n",
       "      <th>4</th>\n",
       "      <td>3334971</td>\n",
       "      <td>2629200</td>\n",
       "      <td>2384257</td>\n",
       "      <td>2058853</td>\n",
       "    </tr>\n",
       "    <tr>\n",
       "      <th>5</th>\n",
       "      <td>1694430</td>\n",
       "      <td>1271591</td>\n",
       "      <td>1083499</td>\n",
       "      <td>968271</td>\n",
       "    </tr>\n",
       "    <tr>\n",
       "      <th>6</th>\n",
       "      <td>833055</td>\n",
       "      <td>686099</td>\n",
       "      <td>669149</td>\n",
       "      <td>640145</td>\n",
       "    </tr>\n",
       "  </tbody>\n",
       "</table>\n",
       "</div>"
      ],
      "text/plain": [
       "      1960     1970      1980      1990\n",
       "2  9678201  9303570  13192563  18959158\n",
       "3  7256311  5740891   5149572   4350403\n",
       "4  3334971  2629200   2384257   2058853\n",
       "5  1694430  1271591   1083499    968271\n",
       "6   833055   686099    669149    640145"
      ]
     },
     "execution_count": 33,
     "metadata": {},
     "output_type": "execute_result"
    }
   ],
   "source": [
    "book2 = book2.drop(\"Region and Country of Birth\", axis=1)\n",
    "book2.head()"
   ]
  },
  {
   "cell_type": "code",
   "execution_count": 34,
   "metadata": {},
   "outputs": [],
   "source": [
    "book2 = book2.dropna().astype(int)"
   ]
  },
  {
   "cell_type": "code",
   "execution_count": 35,
   "metadata": {},
   "outputs": [
    {
     "data": {
      "text/plain": [
       "(96, 4)"
      ]
     },
     "execution_count": 35,
     "metadata": {},
     "output_type": "execute_result"
    }
   ],
   "source": [
    "book2.shape"
   ]
  },
  {
   "cell_type": "code",
   "execution_count": 36,
   "metadata": {},
   "outputs": [
    {
     "data": {
      "text/plain": [
       "1960    int64\n",
       "1970    int64\n",
       "1980    int64\n",
       "1990    int64\n",
       "dtype: object"
      ]
     },
     "execution_count": 36,
     "metadata": {},
     "output_type": "execute_result"
    }
   ],
   "source": [
    "book2.dtypes"
   ]
  },
  {
   "cell_type": "code",
   "execution_count": 37,
   "metadata": {},
   "outputs": [],
   "source": [
    "book2[\"Region and Country of Birth\"] = book2_countries"
   ]
  },
  {
   "cell_type": "code",
   "execution_count": 38,
   "metadata": {},
   "outputs": [
    {
     "data": {
      "text/plain": [
       "1960                            int64\n",
       "1970                            int64\n",
       "1980                            int64\n",
       "1990                            int64\n",
       "Region and Country of Birth    object\n",
       "dtype: object"
      ]
     },
     "execution_count": 38,
     "metadata": {},
     "output_type": "execute_result"
    }
   ],
   "source": [
    "book2.dtypes"
   ]
  },
  {
   "cell_type": "code",
   "execution_count": 39,
   "metadata": {},
   "outputs": [
    {
     "data": {
      "text/html": [
       "<div>\n",
       "<style scoped>\n",
       "    .dataframe tbody tr th:only-of-type {\n",
       "        vertical-align: middle;\n",
       "    }\n",
       "\n",
       "    .dataframe tbody tr th {\n",
       "        vertical-align: top;\n",
       "    }\n",
       "\n",
       "    .dataframe thead th {\n",
       "        text-align: right;\n",
       "    }\n",
       "</style>\n",
       "<table border=\"1\" class=\"dataframe\">\n",
       "  <thead>\n",
       "    <tr style=\"text-align: right;\">\n",
       "      <th></th>\n",
       "      <th>1960</th>\n",
       "      <th>1970</th>\n",
       "      <th>1980</th>\n",
       "      <th>1990</th>\n",
       "      <th>Region and Country of Birth</th>\n",
       "    </tr>\n",
       "  </thead>\n",
       "  <tbody>\n",
       "    <tr>\n",
       "      <th>0</th>\n",
       "      <td>9678201</td>\n",
       "      <td>9303570</td>\n",
       "      <td>13192563</td>\n",
       "      <td>18959158</td>\n",
       "      <td>Reported by region and/or country</td>\n",
       "    </tr>\n",
       "    <tr>\n",
       "      <th>1</th>\n",
       "      <td>7256311</td>\n",
       "      <td>5740891</td>\n",
       "      <td>5149572</td>\n",
       "      <td>4350403</td>\n",
       "      <td>Europe</td>\n",
       "    </tr>\n",
       "    <tr>\n",
       "      <th>2</th>\n",
       "      <td>3334971</td>\n",
       "      <td>2629200</td>\n",
       "      <td>2384257</td>\n",
       "      <td>2058853</td>\n",
       "      <td>Northern and Western Europe</td>\n",
       "    </tr>\n",
       "    <tr>\n",
       "      <th>3</th>\n",
       "      <td>1694430</td>\n",
       "      <td>1271591</td>\n",
       "      <td>1083499</td>\n",
       "      <td>968271</td>\n",
       "      <td>Northern Europe</td>\n",
       "    </tr>\n",
       "    <tr>\n",
       "      <th>4</th>\n",
       "      <td>833055</td>\n",
       "      <td>686099</td>\n",
       "      <td>669149</td>\n",
       "      <td>640145</td>\n",
       "      <td>United Kingdom</td>\n",
       "    </tr>\n",
       "  </tbody>\n",
       "</table>\n",
       "</div>"
      ],
      "text/plain": [
       "      1960     1970      1980      1990        Region and Country of Birth\n",
       "0  9678201  9303570  13192563  18959158  Reported by region and/or country\n",
       "1  7256311  5740891   5149572   4350403                             Europe\n",
       "2  3334971  2629200   2384257   2058853        Northern and Western Europe\n",
       "3  1694430  1271591   1083499    968271                    Northern Europe\n",
       "4   833055   686099    669149    640145                     United Kingdom"
      ]
     },
     "execution_count": 39,
     "metadata": {},
     "output_type": "execute_result"
    }
   ],
   "source": [
    "book2 = book2.reset_index()\n",
    "book2 = book2.drop(\"index\", axis=1)\n",
    "book2.head()"
   ]
  },
  {
   "cell_type": "code",
   "execution_count": 40,
   "metadata": {},
   "outputs": [],
   "source": [
    "# To save\n",
    "\n",
    "# book2.to_csv(\"book2_final.csv\")"
   ]
  },
  {
   "attachments": {},
   "cell_type": "markdown",
   "metadata": {},
   "source": [
    "---"
   ]
  },
  {
   "attachments": {},
   "cell_type": "markdown",
   "metadata": {},
   "source": [
    "## Data Preparation"
   ]
  },
  {
   "attachments": {},
   "cell_type": "markdown",
   "metadata": {},
   "source": [
    "* Dropped unnecessary, duplicated columns. \n",
    "* Removed ',' and '.' from numbers so that we can transform them to int or float.\n",
    "* Transformed '-' or '(na)' values to Nan.\n",
    "* Dropped duplicates and Nan.\n",
    "* Transformed string number values to int or float.\n",
    "\n",
    "**Also will share some of cleaning notebooks to visualize what we have done.**"
   ]
  },
  {
   "attachments": {},
   "cell_type": "markdown",
   "metadata": {},
   "source": [
    "---"
   ]
  },
  {
   "attachments": {},
   "cell_type": "markdown",
   "metadata": {},
   "source": [
    "# EDA"
   ]
  },
  {
   "cell_type": "code",
   "execution_count": 41,
   "metadata": {},
   "outputs": [
    {
     "name": "stderr",
     "output_type": "stream",
     "text": [
      "/Users/furkanatac/opt/anaconda3/lib/python3.8/site-packages/IPython/core/interactiveshell.py:3437: DtypeWarning: Columns (11,12) have mixed types.Specify dtype option on import or set low_memory=False.\n",
      "  exec(code_obj, self.user_global_ns, self.user_ns)\n"
     ]
    }
   ],
   "source": [
    "#Importing Data\n",
    "book1 = pd.read_csv(\"book1_final.csv\")\n",
    "book1 = book1.drop(\"Unnamed: 0\", axis=1)\n",
    "\n",
    "book2 = pd.read_csv(\"book2_final.csv\")\n",
    "book2 = book2.drop(\"Unnamed: 0\", axis=1)\n",
    "\n",
    "children = pd.read_csv(\"children_final.csv\")\n",
    "children = children.drop(\"Unnamed: 0\", axis=1)\n",
    "\n",
    "data5 = pd.read_csv(\"book5.csv\")\n",
    "data4 = pd.read_csv(\"book4.csv\")"
   ]
  },
  {
   "cell_type": "code",
   "execution_count": 42,
   "metadata": {},
   "outputs": [],
   "source": [
    "# from data4, we will remove the unnecessary columns. (Flag codes and Flags)\n",
    "data4 = data4.drop([\"Flag Codes\", \"Flags\", \"COU\", \"CO2\"], axis=1)\n",
    "data4.rename(columns={'Country of birth/nationality':'Place'}, inplace=True)\n",
    "data4_sorted = data4.sort_values(by=\"Value\", ascending=False)\n",
    "data4_sorted = data4_sorted[data4_sorted[\"Year\"] >= 2021]\n",
    "data4_sorted2 = data4_sorted[data4_sorted[\"VAR\"] == \"B14\"]"
   ]
  },
  {
   "cell_type": "code",
   "execution_count": 43,
   "metadata": {},
   "outputs": [
    {
     "data": {
      "text/html": [
       "<div>\n",
       "<style scoped>\n",
       "    .dataframe tbody tr th:only-of-type {\n",
       "        vertical-align: middle;\n",
       "    }\n",
       "\n",
       "    .dataframe tbody tr th {\n",
       "        vertical-align: top;\n",
       "    }\n",
       "\n",
       "    .dataframe thead th {\n",
       "        text-align: right;\n",
       "    }\n",
       "</style>\n",
       "<table border=\"1\" class=\"dataframe\">\n",
       "  <thead>\n",
       "    <tr style=\"text-align: right;\">\n",
       "      <th></th>\n",
       "      <th>2000</th>\n",
       "      <th>2006</th>\n",
       "      <th>2007</th>\n",
       "      <th>2008</th>\n",
       "      <th>2009</th>\n",
       "      <th>2010</th>\n",
       "      <th>2011</th>\n",
       "      <th>2012</th>\n",
       "      <th>2013</th>\n",
       "      <th>2014</th>\n",
       "      <th>2015</th>\n",
       "      <th>2016</th>\n",
       "      <th>2017</th>\n",
       "      <th>2018</th>\n",
       "      <th>2019</th>\n",
       "      <th>2021</th>\n",
       "      <th>Region and Country of Birth</th>\n",
       "    </tr>\n",
       "  </thead>\n",
       "  <tbody>\n",
       "    <tr>\n",
       "      <th>0</th>\n",
       "      <td>31107889</td>\n",
       "      <td>37547315</td>\n",
       "      <td>38059555</td>\n",
       "      <td>37960773</td>\n",
       "      <td>38517104</td>\n",
       "      <td>39955673</td>\n",
       "      <td>40377757</td>\n",
       "      <td>40824553</td>\n",
       "      <td>41347945</td>\n",
       "      <td>42390705</td>\n",
       "      <td>43289646</td>\n",
       "      <td>43738901</td>\n",
       "      <td>44525458</td>\n",
       "      <td>44728502</td>\n",
       "      <td>44932799</td>\n",
       "      <td>45269644</td>\n",
       "      <td>Total Foreign Born*</td>\n",
       "    </tr>\n",
       "    <tr>\n",
       "      <th>1</th>\n",
       "      <td>4915557</td>\n",
       "      <td>4993135</td>\n",
       "      <td>4990294</td>\n",
       "      <td>4969090</td>\n",
       "      <td>4887221</td>\n",
       "      <td>4817437</td>\n",
       "      <td>4889987</td>\n",
       "      <td>4809392</td>\n",
       "      <td>4803059</td>\n",
       "      <td>4764822</td>\n",
       "      <td>4789662</td>\n",
       "      <td>4785267</td>\n",
       "      <td>4818662</td>\n",
       "      <td>4747145</td>\n",
       "      <td>4665173</td>\n",
       "      <td>4865317</td>\n",
       "      <td>Europe</td>\n",
       "    </tr>\n",
       "    <tr>\n",
       "      <th>2</th>\n",
       "      <td>974619</td>\n",
       "      <td>953460</td>\n",
       "      <td>939589</td>\n",
       "      <td>951374</td>\n",
       "      <td>937715</td>\n",
       "      <td>923564</td>\n",
       "      <td>946984</td>\n",
       "      <td>929873</td>\n",
       "      <td>952872</td>\n",
       "      <td>930580</td>\n",
       "      <td>928644</td>\n",
       "      <td>950872</td>\n",
       "      <td>941796</td>\n",
       "      <td>951952</td>\n",
       "      <td>911519</td>\n",
       "      <td>932074</td>\n",
       "      <td>Northern Europe</td>\n",
       "    </tr>\n",
       "    <tr>\n",
       "      <th>3</th>\n",
       "      <td>156474</td>\n",
       "      <td>133433</td>\n",
       "      <td>135722</td>\n",
       "      <td>134897</td>\n",
       "      <td>121982</td>\n",
       "      <td>124457</td>\n",
       "      <td>132540</td>\n",
       "      <td>132277</td>\n",
       "      <td>128350</td>\n",
       "      <td>125022</td>\n",
       "      <td>120144</td>\n",
       "      <td>125840</td>\n",
       "      <td>120187</td>\n",
       "      <td>124990</td>\n",
       "      <td>111886</td>\n",
       "      <td>118539</td>\n",
       "      <td>Ireland</td>\n",
       "    </tr>\n",
       "    <tr>\n",
       "      <th>4</th>\n",
       "      <td>677751</td>\n",
       "      <td>691300</td>\n",
       "      <td>681285</td>\n",
       "      <td>687637</td>\n",
       "      <td>694597</td>\n",
       "      <td>669794</td>\n",
       "      <td>684573</td>\n",
       "      <td>679483</td>\n",
       "      <td>695489</td>\n",
       "      <td>679112</td>\n",
       "      <td>683473</td>\n",
       "      <td>696896</td>\n",
       "      <td>702567</td>\n",
       "      <td>699193</td>\n",
       "      <td>677856</td>\n",
       "      <td>701102</td>\n",
       "      <td>United Kingdom</td>\n",
       "    </tr>\n",
       "  </tbody>\n",
       "</table>\n",
       "</div>"
      ],
      "text/plain": [
       "       2000      2006      2007      2008      2009      2010      2011  \\\n",
       "0  31107889  37547315  38059555  37960773  38517104  39955673  40377757   \n",
       "1   4915557   4993135   4990294   4969090   4887221   4817437   4889987   \n",
       "2    974619    953460    939589    951374    937715    923564    946984   \n",
       "3    156474    133433    135722    134897    121982    124457    132540   \n",
       "4    677751    691300    681285    687637    694597    669794    684573   \n",
       "\n",
       "       2012      2013      2014      2015      2016      2017      2018  \\\n",
       "0  40824553  41347945  42390705  43289646  43738901  44525458  44728502   \n",
       "1   4809392   4803059   4764822   4789662   4785267   4818662   4747145   \n",
       "2    929873    952872    930580    928644    950872    941796    951952   \n",
       "3    132277    128350    125022    120144    125840    120187    124990   \n",
       "4    679483    695489    679112    683473    696896    702567    699193   \n",
       "\n",
       "       2019      2021 Region and Country of Birth  \n",
       "0  44932799  45269644         Total Foreign Born*  \n",
       "1   4665173   4865317                      Europe  \n",
       "2    911519    932074             Northern Europe  \n",
       "3    111886    118539                     Ireland  \n",
       "4    677856    701102              United Kingdom  "
      ]
     },
     "execution_count": 43,
     "metadata": {},
     "output_type": "execute_result"
    }
   ],
   "source": [
    "book1.head()"
   ]
  },
  {
   "cell_type": "code",
   "execution_count": 44,
   "metadata": {},
   "outputs": [
    {
     "data": {
      "text/html": [
       "<div>\n",
       "<style scoped>\n",
       "    .dataframe tbody tr th:only-of-type {\n",
       "        vertical-align: middle;\n",
       "    }\n",
       "\n",
       "    .dataframe tbody tr th {\n",
       "        vertical-align: top;\n",
       "    }\n",
       "\n",
       "    .dataframe thead th {\n",
       "        text-align: right;\n",
       "    }\n",
       "</style>\n",
       "<table border=\"1\" class=\"dataframe\">\n",
       "  <thead>\n",
       "    <tr style=\"text-align: right;\">\n",
       "      <th></th>\n",
       "      <th>1960</th>\n",
       "      <th>1970</th>\n",
       "      <th>1980</th>\n",
       "      <th>1990</th>\n",
       "      <th>Region and Country of Birth</th>\n",
       "    </tr>\n",
       "  </thead>\n",
       "  <tbody>\n",
       "    <tr>\n",
       "      <th>0</th>\n",
       "      <td>9678201</td>\n",
       "      <td>9303570</td>\n",
       "      <td>13192563</td>\n",
       "      <td>18959158</td>\n",
       "      <td>Reported by region and/or country</td>\n",
       "    </tr>\n",
       "    <tr>\n",
       "      <th>1</th>\n",
       "      <td>7256311</td>\n",
       "      <td>5740891</td>\n",
       "      <td>5149572</td>\n",
       "      <td>4350403</td>\n",
       "      <td>Europe</td>\n",
       "    </tr>\n",
       "    <tr>\n",
       "      <th>2</th>\n",
       "      <td>3334971</td>\n",
       "      <td>2629200</td>\n",
       "      <td>2384257</td>\n",
       "      <td>2058853</td>\n",
       "      <td>Northern and Western Europe</td>\n",
       "    </tr>\n",
       "    <tr>\n",
       "      <th>3</th>\n",
       "      <td>1694430</td>\n",
       "      <td>1271591</td>\n",
       "      <td>1083499</td>\n",
       "      <td>968271</td>\n",
       "      <td>Northern Europe</td>\n",
       "    </tr>\n",
       "    <tr>\n",
       "      <th>4</th>\n",
       "      <td>833055</td>\n",
       "      <td>686099</td>\n",
       "      <td>669149</td>\n",
       "      <td>640145</td>\n",
       "      <td>United Kingdom</td>\n",
       "    </tr>\n",
       "  </tbody>\n",
       "</table>\n",
       "</div>"
      ],
      "text/plain": [
       "      1960     1970      1980      1990        Region and Country of Birth\n",
       "0  9678201  9303570  13192563  18959158  Reported by region and/or country\n",
       "1  7256311  5740891   5149572   4350403                             Europe\n",
       "2  3334971  2629200   2384257   2058853        Northern and Western Europe\n",
       "3  1694430  1271591   1083499    968271                    Northern Europe\n",
       "4   833055   686099    669149    640145                     United Kingdom"
      ]
     },
     "execution_count": 44,
     "metadata": {},
     "output_type": "execute_result"
    }
   ],
   "source": [
    "book2.head()"
   ]
  },
  {
   "cell_type": "code",
   "execution_count": 45,
   "metadata": {},
   "outputs": [],
   "source": [
    "book1_countries = book1[\"Region and Country of Birth\"]\n",
    "book1 = book1.drop(\"Region and Country of Birth\", axis=1)\n",
    "\n",
    "book2_countries = book2[\"Region and Country of Birth\"]\n",
    "book2 = book2.drop(\"Region and Country of Birth\", axis=1)\n",
    "\n",
    "children_location = children[\"Region and Country of Birth\"]\n",
    "children = children.drop(\"Region and Country of Birth\", axis=1)"
   ]
  },
  {
   "cell_type": "code",
   "execution_count": 46,
   "metadata": {},
   "outputs": [
    {
     "data": {
      "text/plain": [
       "(120, 16)"
      ]
     },
     "execution_count": 46,
     "metadata": {},
     "output_type": "execute_result"
    }
   ],
   "source": [
    "book1.shape"
   ]
  },
  {
   "cell_type": "code",
   "execution_count": 47,
   "metadata": {},
   "outputs": [
    {
     "name": "stdout",
     "output_type": "stream",
     "text": [
      "<class 'pandas.core.frame.DataFrame'>\n",
      "RangeIndex: 120 entries, 0 to 119\n",
      "Data columns (total 16 columns):\n",
      " #   Column  Non-Null Count  Dtype\n",
      "---  ------  --------------  -----\n",
      " 0   2000    120 non-null    int64\n",
      " 1   2006    120 non-null    int64\n",
      " 2   2007    120 non-null    int64\n",
      " 3   2008    120 non-null    int64\n",
      " 4   2009    120 non-null    int64\n",
      " 5   2010    120 non-null    int64\n",
      " 6   2011    120 non-null    int64\n",
      " 7   2012    120 non-null    int64\n",
      " 8   2013    120 non-null    int64\n",
      " 9   2014    120 non-null    int64\n",
      " 10  2015    120 non-null    int64\n",
      " 11  2016    120 non-null    int64\n",
      " 12  2017    120 non-null    int64\n",
      " 13  2018    120 non-null    int64\n",
      " 14  2019    120 non-null    int64\n",
      " 15  2021    120 non-null    int64\n",
      "dtypes: int64(16)\n",
      "memory usage: 15.1 KB\n"
     ]
    }
   ],
   "source": [
    "book1.info()"
   ]
  },
  {
   "cell_type": "code",
   "execution_count": 48,
   "metadata": {},
   "outputs": [
    {
     "data": {
      "text/html": [
       "<div>\n",
       "<style scoped>\n",
       "    .dataframe tbody tr th:only-of-type {\n",
       "        vertical-align: middle;\n",
       "    }\n",
       "\n",
       "    .dataframe tbody tr th {\n",
       "        vertical-align: top;\n",
       "    }\n",
       "\n",
       "    .dataframe thead th {\n",
       "        text-align: right;\n",
       "    }\n",
       "</style>\n",
       "<table border=\"1\" class=\"dataframe\">\n",
       "  <thead>\n",
       "    <tr style=\"text-align: right;\">\n",
       "      <th></th>\n",
       "      <th>2000</th>\n",
       "      <th>2006</th>\n",
       "      <th>2007</th>\n",
       "      <th>2008</th>\n",
       "      <th>2009</th>\n",
       "      <th>2010</th>\n",
       "      <th>2011</th>\n",
       "      <th>2012</th>\n",
       "      <th>2013</th>\n",
       "      <th>2014</th>\n",
       "      <th>2015</th>\n",
       "      <th>2016</th>\n",
       "      <th>2017</th>\n",
       "      <th>2018</th>\n",
       "      <th>2019</th>\n",
       "      <th>2021</th>\n",
       "    </tr>\n",
       "  </thead>\n",
       "  <tbody>\n",
       "    <tr>\n",
       "      <th>count</th>\n",
       "      <td>1.200000e+02</td>\n",
       "      <td>1.200000e+02</td>\n",
       "      <td>1.200000e+02</td>\n",
       "      <td>1.200000e+02</td>\n",
       "      <td>1.200000e+02</td>\n",
       "      <td>1.200000e+02</td>\n",
       "      <td>1.200000e+02</td>\n",
       "      <td>1.200000e+02</td>\n",
       "      <td>1.200000e+02</td>\n",
       "      <td>1.200000e+02</td>\n",
       "      <td>1.200000e+02</td>\n",
       "      <td>1.200000e+02</td>\n",
       "      <td>1.200000e+02</td>\n",
       "      <td>1.200000e+02</td>\n",
       "      <td>1.200000e+02</td>\n",
       "      <td>1.200000e+02</td>\n",
       "    </tr>\n",
       "    <tr>\n",
       "      <th>mean</th>\n",
       "      <td>1.189656e+06</td>\n",
       "      <td>1.444118e+06</td>\n",
       "      <td>1.464227e+06</td>\n",
       "      <td>1.458534e+06</td>\n",
       "      <td>1.469424e+06</td>\n",
       "      <td>1.525869e+06</td>\n",
       "      <td>1.540652e+06</td>\n",
       "      <td>1.557288e+06</td>\n",
       "      <td>1.577070e+06</td>\n",
       "      <td>1.616841e+06</td>\n",
       "      <td>1.649449e+06</td>\n",
       "      <td>1.665840e+06</td>\n",
       "      <td>1.694398e+06</td>\n",
       "      <td>1.701771e+06</td>\n",
       "      <td>1.708049e+06</td>\n",
       "      <td>1.717757e+06</td>\n",
       "    </tr>\n",
       "    <tr>\n",
       "      <th>std</th>\n",
       "      <td>3.781187e+06</td>\n",
       "      <td>4.623361e+06</td>\n",
       "      <td>4.690313e+06</td>\n",
       "      <td>4.655949e+06</td>\n",
       "      <td>4.727543e+06</td>\n",
       "      <td>4.899819e+06</td>\n",
       "      <td>4.933544e+06</td>\n",
       "      <td>4.971962e+06</td>\n",
       "      <td>5.025175e+06</td>\n",
       "      <td>5.141850e+06</td>\n",
       "      <td>5.228088e+06</td>\n",
       "      <td>5.272318e+06</td>\n",
       "      <td>5.336084e+06</td>\n",
       "      <td>5.354477e+06</td>\n",
       "      <td>5.371435e+06</td>\n",
       "      <td>5.391666e+06</td>\n",
       "    </tr>\n",
       "    <tr>\n",
       "      <th>min</th>\n",
       "      <td>2.410000e+02</td>\n",
       "      <td>1.764000e+03</td>\n",
       "      <td>3.024000e+03</td>\n",
       "      <td>2.113000e+03</td>\n",
       "      <td>6.400000e+02</td>\n",
       "      <td>9.430000e+02</td>\n",
       "      <td>6.590000e+02</td>\n",
       "      <td>7.350000e+02</td>\n",
       "      <td>9.650000e+02</td>\n",
       "      <td>1.043000e+03</td>\n",
       "      <td>1.625000e+03</td>\n",
       "      <td>1.190000e+03</td>\n",
       "      <td>2.067000e+03</td>\n",
       "      <td>1.235000e+03</td>\n",
       "      <td>1.069000e+03</td>\n",
       "      <td>6.620000e+02</td>\n",
       "    </tr>\n",
       "    <tr>\n",
       "      <th>25%</th>\n",
       "      <td>7.473075e+04</td>\n",
       "      <td>8.911550e+04</td>\n",
       "      <td>9.098775e+04</td>\n",
       "      <td>9.015500e+04</td>\n",
       "      <td>7.976400e+04</td>\n",
       "      <td>7.966050e+04</td>\n",
       "      <td>8.071150e+04</td>\n",
       "      <td>8.445375e+04</td>\n",
       "      <td>8.379475e+04</td>\n",
       "      <td>8.618700e+04</td>\n",
       "      <td>8.972675e+04</td>\n",
       "      <td>9.465775e+04</td>\n",
       "      <td>1.008928e+05</td>\n",
       "      <td>1.021905e+05</td>\n",
       "      <td>9.894225e+04</td>\n",
       "      <td>1.042275e+05</td>\n",
       "    </tr>\n",
       "    <tr>\n",
       "      <th>50%</th>\n",
       "      <td>1.689235e+05</td>\n",
       "      <td>1.922130e+05</td>\n",
       "      <td>1.970335e+05</td>\n",
       "      <td>2.022150e+05</td>\n",
       "      <td>1.850375e+05</td>\n",
       "      <td>1.866865e+05</td>\n",
       "      <td>1.865380e+05</td>\n",
       "      <td>1.962180e+05</td>\n",
       "      <td>1.993090e+05</td>\n",
       "      <td>2.167220e+05</td>\n",
       "      <td>2.279885e+05</td>\n",
       "      <td>2.281135e+05</td>\n",
       "      <td>2.351195e+05</td>\n",
       "      <td>2.353350e+05</td>\n",
       "      <td>2.405695e+05</td>\n",
       "      <td>2.378335e+05</td>\n",
       "    </tr>\n",
       "    <tr>\n",
       "      <th>75%</th>\n",
       "      <td>6.802325e+05</td>\n",
       "      <td>7.323182e+05</td>\n",
       "      <td>7.143100e+05</td>\n",
       "      <td>7.474180e+05</td>\n",
       "      <td>7.946342e+05</td>\n",
       "      <td>7.841328e+05</td>\n",
       "      <td>7.884325e+05</td>\n",
       "      <td>7.736730e+05</td>\n",
       "      <td>7.978642e+05</td>\n",
       "      <td>7.828692e+05</td>\n",
       "      <td>7.984822e+05</td>\n",
       "      <td>7.843780e+05</td>\n",
       "      <td>8.111760e+05</td>\n",
       "      <td>8.158652e+05</td>\n",
       "      <td>8.054885e+05</td>\n",
       "      <td>8.109478e+05</td>\n",
       "    </tr>\n",
       "    <tr>\n",
       "      <th>max</th>\n",
       "      <td>3.110789e+07</td>\n",
       "      <td>3.754732e+07</td>\n",
       "      <td>3.805956e+07</td>\n",
       "      <td>3.796077e+07</td>\n",
       "      <td>3.851710e+07</td>\n",
       "      <td>3.995567e+07</td>\n",
       "      <td>4.037776e+07</td>\n",
       "      <td>4.082455e+07</td>\n",
       "      <td>4.134794e+07</td>\n",
       "      <td>4.239070e+07</td>\n",
       "      <td>4.328965e+07</td>\n",
       "      <td>4.373890e+07</td>\n",
       "      <td>4.452546e+07</td>\n",
       "      <td>4.472850e+07</td>\n",
       "      <td>4.493280e+07</td>\n",
       "      <td>4.526964e+07</td>\n",
       "    </tr>\n",
       "  </tbody>\n",
       "</table>\n",
       "</div>"
      ],
      "text/plain": [
       "               2000          2006          2007          2008          2009  \\\n",
       "count  1.200000e+02  1.200000e+02  1.200000e+02  1.200000e+02  1.200000e+02   \n",
       "mean   1.189656e+06  1.444118e+06  1.464227e+06  1.458534e+06  1.469424e+06   \n",
       "std    3.781187e+06  4.623361e+06  4.690313e+06  4.655949e+06  4.727543e+06   \n",
       "min    2.410000e+02  1.764000e+03  3.024000e+03  2.113000e+03  6.400000e+02   \n",
       "25%    7.473075e+04  8.911550e+04  9.098775e+04  9.015500e+04  7.976400e+04   \n",
       "50%    1.689235e+05  1.922130e+05  1.970335e+05  2.022150e+05  1.850375e+05   \n",
       "75%    6.802325e+05  7.323182e+05  7.143100e+05  7.474180e+05  7.946342e+05   \n",
       "max    3.110789e+07  3.754732e+07  3.805956e+07  3.796077e+07  3.851710e+07   \n",
       "\n",
       "               2010          2011          2012          2013          2014  \\\n",
       "count  1.200000e+02  1.200000e+02  1.200000e+02  1.200000e+02  1.200000e+02   \n",
       "mean   1.525869e+06  1.540652e+06  1.557288e+06  1.577070e+06  1.616841e+06   \n",
       "std    4.899819e+06  4.933544e+06  4.971962e+06  5.025175e+06  5.141850e+06   \n",
       "min    9.430000e+02  6.590000e+02  7.350000e+02  9.650000e+02  1.043000e+03   \n",
       "25%    7.966050e+04  8.071150e+04  8.445375e+04  8.379475e+04  8.618700e+04   \n",
       "50%    1.866865e+05  1.865380e+05  1.962180e+05  1.993090e+05  2.167220e+05   \n",
       "75%    7.841328e+05  7.884325e+05  7.736730e+05  7.978642e+05  7.828692e+05   \n",
       "max    3.995567e+07  4.037776e+07  4.082455e+07  4.134794e+07  4.239070e+07   \n",
       "\n",
       "               2015          2016          2017          2018          2019  \\\n",
       "count  1.200000e+02  1.200000e+02  1.200000e+02  1.200000e+02  1.200000e+02   \n",
       "mean   1.649449e+06  1.665840e+06  1.694398e+06  1.701771e+06  1.708049e+06   \n",
       "std    5.228088e+06  5.272318e+06  5.336084e+06  5.354477e+06  5.371435e+06   \n",
       "min    1.625000e+03  1.190000e+03  2.067000e+03  1.235000e+03  1.069000e+03   \n",
       "25%    8.972675e+04  9.465775e+04  1.008928e+05  1.021905e+05  9.894225e+04   \n",
       "50%    2.279885e+05  2.281135e+05  2.351195e+05  2.353350e+05  2.405695e+05   \n",
       "75%    7.984822e+05  7.843780e+05  8.111760e+05  8.158652e+05  8.054885e+05   \n",
       "max    4.328965e+07  4.373890e+07  4.452546e+07  4.472850e+07  4.493280e+07   \n",
       "\n",
       "               2021  \n",
       "count  1.200000e+02  \n",
       "mean   1.717757e+06  \n",
       "std    5.391666e+06  \n",
       "min    6.620000e+02  \n",
       "25%    1.042275e+05  \n",
       "50%    2.378335e+05  \n",
       "75%    8.109478e+05  \n",
       "max    4.526964e+07  "
      ]
     },
     "execution_count": 48,
     "metadata": {},
     "output_type": "execute_result"
    }
   ],
   "source": [
    "book1.describe()"
   ]
  },
  {
   "cell_type": "code",
   "execution_count": 49,
   "metadata": {},
   "outputs": [
    {
     "data": {
      "image/png": "[encoded data removed]",
      "text/plain": [
       "<Figure size 432x288 with 1 Axes>"
      ]
     },
     "metadata": {
      "needs_background": "light"
     },
     "output_type": "display_data"
    }
   ],
   "source": [
    "plt.rcParams['figure.figsize'] = (20, 10)\n",
    "for i in [42,4,9,40]:\n",
    "    plt.plot(book1.columns, book1.iloc[i], label = book1_countries.iloc[i])\n",
    "    plt.legend()\n",
    "plt.title(\"Immigration Rate by Year\")\n",
    "plt.xlabel(\"Year\")\n",
    "plt.ylabel(\"Immigration\")\n",
    "plt.show()"
   ]
  },
  {
   "cell_type": "code",
   "execution_count": 50,
   "metadata": {},
   "outputs": [
    {
     "data": {
      "image/png": "[encoded data removed]",
      "text/plain": [
       "<Figure size 432x288 with 1 Axes>"
      ]
     },
     "metadata": {
      "needs_background": "light"
     },
     "output_type": "display_data"
    }
   ],
   "source": [
    "plt.plot(book1.columns, book1.iloc[0], label = book1_countries.iloc[0], color=\"purple\")\n",
    "plt.legend()\n",
    "plt.title(\"Total Immigration by Year\")\n",
    "plt.xlabel(\"Year\")\n",
    "plt.ylabel(\"Total Immigration\")\n",
    "plt.show()"
   ]
  },
  {
   "cell_type": "code",
   "execution_count": 51,
   "metadata": {},
   "outputs": [
    {
     "data": {
      "image/png": "[encoded data removed]",
      "text/plain": [
       "<Figure size 1080x504 with 1 Axes>"
      ]
     },
     "metadata": {
      "needs_background": "light"
     },
     "output_type": "display_data"
    }
   ],
   "source": [
    "plt.rcParams['figure.figsize'] = (15, 7)\n",
    "plt.scatter(book1.columns, book1.describe().mean())\n",
    "plt.title(\"Mean Immigration Per Year\")\n",
    "plt.xlabel(\"Year\")\n",
    "plt.ylabel(\"Immigration Mean\")\n",
    "plt.show()"
   ]
  },
  {
   "cell_type": "code",
   "execution_count": 52,
   "metadata": {},
   "outputs": [
    {
     "data": {
      "image/png": "[encoded data removed]",
      "text/plain": [
       "<Figure size 1440x720 with 1 Axes>"
      ]
     },
     "metadata": {
      "needs_background": "light"
     },
     "output_type": "display_data"
    }
   ],
   "source": [
    "plt.rcParams['figure.figsize'] = (20, 10)\n",
    "for i in [1,41,54,60,65,94]:\n",
    "    plt.plot(book2.columns, book2.iloc[i], label = book2_countries.iloc[i])\n",
    "    plt.legend()\n",
    "plt.title(\"Immigration Rates Per Ten Year\")\n",
    "plt.xlabel(\"Year\")\n",
    "plt.ylabel(\"Immigration\")\n",
    "plt.show()"
   ]
  },
  {
   "cell_type": "code",
   "execution_count": 53,
   "metadata": {},
   "outputs": [
    {
     "data": {
      "image/png": "[encoded data removed]",
      "text/plain": [
       "<Figure size 720x432 with 1 Axes>"
      ]
     },
     "metadata": {
      "needs_background": "light"
     },
     "output_type": "display_data"
    }
   ],
   "source": [
    "plt.rcParams['figure.figsize'] = (10, 6)\n",
    "\n",
    "plt.plot(list(children.columns)[::-1], children.iloc[0][::-1], label = children_location.iloc[0])\n",
    "plt.title(\"Children Count Having an Immigrant Parent Per Year\")\n",
    "plt.xlabel(\"Year\")\n",
    "plt.ylabel(\"Having an Immigrant Parent Number\")\n",
    "plt.show()"
   ]
  },
  {
   "cell_type": "code",
   "execution_count": 54,
   "metadata": {},
   "outputs": [
    {
     "data": {
      "image/png": "[encoded data removed]",
      "text/plain": [
       "<Figure size 1440x720 with 1 Axes>"
      ]
     },
     "metadata": {
      "needs_background": "light"
     },
     "output_type": "display_data"
    }
   ],
   "source": [
    "data4_toplot = data4_sorted2.head(40)\n",
    "data4_toplot = data4_toplot[data4_toplot[\"Place\"] ==\"Total\"]\n",
    "\n",
    "plt.figure(figsize=(20,10))\n",
    "plt.bar(data4_toplot[\"Country\"], data4_toplot[\"Value\"])\n",
    "plt.xlabel(\"Country\")\n",
    "plt.ylabel(\"Number of Immigrants\")\n",
    "plt.title(\"Top 15 Countries with the most refugees in 2021\")\n",
    "plt.show()"
   ]
  },
  {
   "cell_type": "code",
   "execution_count": 55,
   "metadata": {},
   "outputs": [],
   "source": [
    "data4_sorted3 = data4_sorted2.head(30)\n",
    "data4_sorted3 = data4_sorted3[data4_sorted3[\"Place\"] != \"Total\"]"
   ]
  },
  {
   "cell_type": "code",
   "execution_count": 56,
   "metadata": {},
   "outputs": [
    {
     "data": {
      "image/png": "[encoded data removed]",
      "text/plain": [
       "<Figure size 1440x720 with 1 Axes>"
      ]
     },
     "metadata": {},
     "output_type": "display_data"
    }
   ],
   "source": [
    "sns.set(style=\"whitegrid\")\n",
    "plt.figure(figsize=(20,10))\n",
    "sns.barplot(x=\"Value\", y=\"Place\", data=data4_sorted3)\n",
    "plt.xlabel(\"Value (in millions)\")\n",
    "plt.ylabel(\"Country\")\n",
    "plt.title(\"Immigrants in 2021\")\n",
    "plt.show()"
   ]
  },
  {
   "cell_type": "code",
   "execution_count": 57,
   "metadata": {},
   "outputs": [
    {
     "data": {
      "text/html": [
       "<div>\n",
       "<style scoped>\n",
       "    .dataframe tbody tr th:only-of-type {\n",
       "        vertical-align: middle;\n",
       "    }\n",
       "\n",
       "    .dataframe tbody tr th {\n",
       "        vertical-align: top;\n",
       "    }\n",
       "\n",
       "    .dataframe thead th {\n",
       "        text-align: right;\n",
       "    }\n",
       "</style>\n",
       "<table border=\"1\" class=\"dataframe\">\n",
       "  <thead>\n",
       "    <tr style=\"text-align: right;\">\n",
       "      <th></th>\n",
       "      <th>Place</th>\n",
       "      <th>VAR</th>\n",
       "      <th>Variable</th>\n",
       "      <th>GEN</th>\n",
       "      <th>Gender</th>\n",
       "      <th>Country</th>\n",
       "      <th>YEA</th>\n",
       "      <th>Year</th>\n",
       "      <th>Value</th>\n",
       "    </tr>\n",
       "  </thead>\n",
       "  <tbody>\n",
       "    <tr>\n",
       "      <th>273606</th>\n",
       "      <td>Former USSR</td>\n",
       "      <td>B14</td>\n",
       "      <td>Stock of foreign-born population by country of...</td>\n",
       "      <td>TOT</td>\n",
       "      <td>Total</td>\n",
       "      <td>Israel</td>\n",
       "      <td>2021</td>\n",
       "      <td>2021</td>\n",
       "      <td>891000.0</td>\n",
       "    </tr>\n",
       "  </tbody>\n",
       "</table>\n",
       "</div>"
      ],
      "text/plain": [
       "              Place  VAR                                           Variable  \\\n",
       "273606  Former USSR  B14  Stock of foreign-born population by country of...   \n",
       "\n",
       "        GEN Gender Country   YEA  Year     Value  \n",
       "273606  TOT  Total  Israel  2021  2021  891000.0  "
      ]
     },
     "execution_count": 57,
     "metadata": {},
     "output_type": "execute_result"
    }
   ],
   "source": [
    "data4_sorted3[data4_sorted3[\"Place\"] == \"Former USSR\"]\n",
    "# https://en.wikipedia.org/wiki/1990s_post-Soviet_aliyah#:~:text=Between%201989%20and%202006%2C%20about,and%20219%2C000%20migrated%20to%20Germany."
   ]
  },
  {
   "cell_type": "code",
   "execution_count": 58,
   "metadata": {},
   "outputs": [],
   "source": [
    "data4_ussr = data4[data4[\"Place\"] == \"Former USSR\"]\n",
    "data4_ussr = data4_ussr[data4_ussr[\"Year\"] >= 2021]"
   ]
  },
  {
   "cell_type": "code",
   "execution_count": 59,
   "metadata": {},
   "outputs": [
    {
     "data": {
      "text/html": [
       "<div>\n",
       "<style scoped>\n",
       "    .dataframe tbody tr th:only-of-type {\n",
       "        vertical-align: middle;\n",
       "    }\n",
       "\n",
       "    .dataframe tbody tr th {\n",
       "        vertical-align: top;\n",
       "    }\n",
       "\n",
       "    .dataframe thead th {\n",
       "        text-align: right;\n",
       "    }\n",
       "</style>\n",
       "<table border=\"1\" class=\"dataframe\">\n",
       "  <thead>\n",
       "    <tr style=\"text-align: right;\">\n",
       "      <th></th>\n",
       "      <th>Place</th>\n",
       "      <th>VAR</th>\n",
       "      <th>Variable</th>\n",
       "      <th>GEN</th>\n",
       "      <th>Gender</th>\n",
       "      <th>Country</th>\n",
       "      <th>YEA</th>\n",
       "      <th>Year</th>\n",
       "      <th>Value</th>\n",
       "    </tr>\n",
       "  </thead>\n",
       "  <tbody>\n",
       "    <tr>\n",
       "      <th>258081</th>\n",
       "      <td>Honduras</td>\n",
       "      <td>B14</td>\n",
       "      <td>Stock of foreign-born population by country of...</td>\n",
       "      <td>TOT</td>\n",
       "      <td>Total</td>\n",
       "      <td>United States</td>\n",
       "      <td>2021</td>\n",
       "      <td>2021</td>\n",
       "      <td>901000.0</td>\n",
       "    </tr>\n",
       "  </tbody>\n",
       "</table>\n",
       "</div>"
      ],
      "text/plain": [
       "           Place  VAR                                           Variable  GEN  \\\n",
       "258081  Honduras  B14  Stock of foreign-born population by country of...  TOT   \n",
       "\n",
       "       Gender        Country   YEA  Year     Value  \n",
       "258081  Total  United States  2021  2021  901000.0  "
      ]
     },
     "execution_count": 59,
     "metadata": {},
     "output_type": "execute_result"
    }
   ],
   "source": [
    "data4_sorted3[data4_sorted3[\"Place\"] == \"Honduras\"]\n",
    "# https://www.npr.org/2021/05/10/994065661/why-people-are-fleeing-honduras-for-the-u-s-all-thats-left-here-is-misery"
   ]
  },
  {
   "cell_type": "code",
   "execution_count": 60,
   "metadata": {},
   "outputs": [],
   "source": [
    "data4_values = data4[data4[\"Place\"] != \"Total\"]\n",
    "data4_values = data4_values[data4_values[\"Year\"] >= 2021]\n",
    "data4_values = data4_values[data4_values[\"Value\"] > 0]\n",
    "data4_values = data4_values[data4_values[\"VAR\"] == \"B14\"]\n",
    "data4_values = data4_values.sort_values(by=\"Place\", ascending=True)"
   ]
  },
  {
   "cell_type": "code",
   "execution_count": 61,
   "metadata": {},
   "outputs": [],
   "source": [
    "data4_total = data4_values.groupby(\"Place\").sum()\n",
    "data4_total = data4_total.reset_index()"
   ]
  },
  {
   "cell_type": "code",
   "execution_count": 62,
   "metadata": {},
   "outputs": [
    {
     "data": {
      "image/png": "[encoded data removed]",
      "text/plain": [
       "<Figure size 1440x720 with 1 Axes>"
      ]
     },
     "metadata": {},
     "output_type": "display_data"
    }
   ],
   "source": [
    "sns.set(style=\"whitegrid\")\n",
    "plt.figure(figsize=(20,10))\n",
    "sns.barplot(x=\"Value\", y=\"Place\", data=data4_total.sort_values(by=\"Value\", ascending=False).head(37))\n",
    "plt.xlabel(\"Value (in millions)\")\n",
    "plt.ylabel(\"Country\")\n",
    "plt.title(\"Most Countries With Immigration\")\n",
    "plt.show()"
   ]
  },
  {
   "cell_type": "code",
   "execution_count": 63,
   "metadata": {},
   "outputs": [],
   "source": [
    "data4_welcomed = data4[data4[\"Place\"] != \"Total\"]\n",
    "data4_welcomed = data4_welcomed[data4_welcomed[\"Year\"] >= 2021]\n",
    "data4_welcomed = data4_welcomed[data4_welcomed[\"Value\"] > 0]\n",
    "# B14 is refugees born in other countries.\n",
    "data4_welcomed = data4_welcomed[data4_welcomed[\"VAR\"] == \"B14\"] \n",
    "\n",
    "data4_welcomed = data4_welcomed.groupby(by=\"Country\").sum()\n",
    "data4_welcomed = data4_welcomed.reset_index()"
   ]
  },
  {
   "cell_type": "code",
   "execution_count": 64,
   "metadata": {},
   "outputs": [
    {
     "data": {
      "image/png": "[encoded data removed]",
      "text/plain": [
       "<Figure size 1440x720 with 1 Axes>"
      ]
     },
     "metadata": {},
     "output_type": "display_data"
    }
   ],
   "source": [
    "sns.set(style=\"whitegrid\")\n",
    "plt.figure(figsize=(20,10))\n",
    "sns.barplot(x=\"Value\", y=\"Country\", data=data4_welcomed.sort_values(by=\"Value\", ascending=False).head(37))\n",
    "plt.xlabel(\"Value (in millions)\")\n",
    "plt.ylabel(\"Country\")\n",
    "plt.title(\"Most Welcoming Countries\")\n",
    "plt.show()"
   ]
  },
  {
   "cell_type": "code",
   "execution_count": 65,
   "metadata": {},
   "outputs": [],
   "source": [
    "data5.drop([\"Unnamed: 0\", \"dispsF\", \"dispsM\", \"subsF\", \"subsM\", \"dispsMF\", \"subsMF\", \"wrs\", \"benclaim\", \"SP_A8\"], axis=1, inplace=True)\n",
    "# change year data type to int\n",
    "data5[\"year\"] = data5[\"year\"].astype(int)"
   ]
  },
  {
   "cell_type": "code",
   "execution_count": 66,
   "metadata": {},
   "outputs": [],
   "source": [
    "\"\"\"\n",
    "pfa_name: name of police force area\n",
    "la: name of Local Authority Area\n",
    "la_code: id of Local Authority Area\n",
    "year: year of observation\n",
    "viol: number of violent crimes reported by year and local authority\n",
    "burg: number of burglaries reported by year and local authority\n",
    "rob: number of robberies reported by year and local authority\n",
    "tomv: number of thefts of motor vehicles reported by year and local authority\n",
    "tfmv: number of thefts from motor vehicles reported by year and local authority\n",
    "dispsF: number of female asylum seekers is dispersal accommodation by year and local authority\n",
    "dispsM: number of male asylum seekers is dispersal accommodation by year and local authority\n",
    "dispsMF: total number of asylum seekers is dispersal accommodation by year and local authority\n",
    "subsF: number of female asylum seekers receiving subsistence support by year and local authority\n",
    "subsM: number of male asylum seekers receiving subsistence support by year and local authority\n",
    "subsMF: total number of asylum seekers receiving subsistence support by year and local authority\n",
    "asylumtot: total number asylum seekers by year and local authority\n",
    "totalpop: Total estimated population, mid-year (Office for National Statistics)\n",
    "pop1524:  Total estimated population Aged 15-24, mid-year (Office for National Statistics)\n",
    "pop014:  Total estimated population Aged 0-14, mid-year (Office for National Statistics)\n",
    "wrs: A8 Registrations on the Worker Registration Scheme by year and local authority\n",
    "urate: Claimant count unemployment rate, mid-year (Office for National Statistics)\n",
    "benclaim: Total benefit claimants (Department for Work and Pensions)\n",
    "SP_A8: Predicted Inflow of A8 immigrants (IV instrument)\n",
    "\"\"\"\n",
    "a = 0 # to get rid of the output"
   ]
  },
  {
   "cell_type": "code",
   "execution_count": 67,
   "metadata": {},
   "outputs": [],
   "source": [
    "data5_years = data5.groupby(by=\"year\").sum()\n",
    "data5_years = data5_years.reset_index()"
   ]
  },
  {
   "cell_type": "code",
   "execution_count": 68,
   "metadata": {},
   "outputs": [
    {
     "data": {
      "image/png": "[encoded data removed]",
      "text/plain": [
       "<Figure size 1440x720 with 1 Axes>"
      ]
     },
     "metadata": {},
     "output_type": "display_data"
    },
    {
     "data": {
      "image/png": "[encoded data removed]",
      "text/plain": [
       "<Figure size 1440x720 with 1 Axes>"
      ]
     },
     "metadata": {},
     "output_type": "display_data"
    },
    {
     "data": {
      "image/png": "[encoded data removed]",
      "text/plain": [
       "<Figure size 1440x720 with 1 Axes>"
      ]
     },
     "metadata": {},
     "output_type": "display_data"
    },
    {
     "data": {
      "image/png": "[encoded data removed]",
      "text/plain": [
       "<Figure size 1440x720 with 1 Axes>"
      ]
     },
     "metadata": {},
     "output_type": "display_data"
    }
   ],
   "source": [
    "sns.set(style=\"whitegrid\")\n",
    "plt.figure(figsize=(20,10))\n",
    "sns.barplot(x=\"year\", y=\"asylumtot\", data=data5_years)\n",
    "plt.xlabel(\"Year\")\n",
    "plt.ylabel(\"Number of Asylum Seekers\")\n",
    "plt.title(\"Number of Asylum Seekers per Year\")\n",
    "plt.show()\n",
    "\n",
    "sns.set(style=\"whitegrid\")\n",
    "plt.figure(figsize=(20,10))\n",
    "sns.barplot(x=\"year\", y=\"viol\", data=data5_years)\n",
    "plt.xlabel(\"Year\")\n",
    "plt.ylabel(\"Number of Violent Crimes\")\n",
    "plt.title(\"Number of Violent Crimes per Year\")\n",
    "plt.show()\n",
    "\n",
    "sns.set(style=\"whitegrid\")\n",
    "plt.figure(figsize=(20,10))\n",
    "sns.barplot(x=\"year\", y=\"burg\", data=data5_years)\n",
    "plt.xlabel(\"Year\")\n",
    "plt.ylabel(\"Number of Burglaries\")\n",
    "plt.title(\"Number of Burglaries per Year\")\n",
    "plt.show()\n",
    "\n",
    "sns.set(style=\"whitegrid\")\n",
    "plt.figure(figsize=(20,10))\n",
    "sns.barplot(x=\"year\", y=\"rob\", data=data5_years)\n",
    "plt.xlabel(\"Year\")\n",
    "plt.ylabel(\"Number of Robberies\")\n",
    "plt.title(\"Number of Robberies per Year\")\n",
    "plt.show()"
   ]
  },
  {
   "cell_type": "code",
   "execution_count": 69,
   "metadata": {},
   "outputs": [],
   "source": [
    "data4_england = data4[data4[\"Country\"] == \"United Kingdom\"]\n",
    "\n",
    "data4_england = data4_england.groupby(by=\"Year\").sum()\n",
    "data4_england = data4_england.reset_index()"
   ]
  },
  {
   "cell_type": "code",
   "execution_count": 70,
   "metadata": {},
   "outputs": [
    {
     "data": {
      "image/png": "[encoded data removed]",
      "text/plain": [
       "<Figure size 1440x720 with 1 Axes>"
      ]
     },
     "metadata": {},
     "output_type": "display_data"
    }
   ],
   "source": [
    "# now plot it by year\n",
    "sns.set(style=\"whitegrid\")\n",
    "plt.figure(figsize=(20,10))\n",
    "sns.barplot(x=\"Year\", y=\"Value\", data=data4_england)\n",
    "plt.xlabel(\"Year\")\n",
    "plt.ylabel(\"Number of Immigrants\")\n",
    "plt.title(\"Immigrants entering in the UK per Year\")\n",
    "plt.show()"
   ]
  },
  {
   "cell_type": "code",
   "execution_count": 71,
   "metadata": {},
   "outputs": [],
   "source": [
    "data5_crimes = data5.groupby(by=\"year\").sum()"
   ]
  },
  {
   "cell_type": "code",
   "execution_count": 72,
   "metadata": {},
   "outputs": [],
   "source": [
    "data5_crimes = data5_crimes.reset_index()"
   ]
  },
  {
   "cell_type": "code",
   "execution_count": 73,
   "metadata": {},
   "outputs": [
    {
     "data": {
      "text/html": [
       "<div>\n",
       "<style scoped>\n",
       "    .dataframe tbody tr th:only-of-type {\n",
       "        vertical-align: middle;\n",
       "    }\n",
       "\n",
       "    .dataframe tbody tr th {\n",
       "        vertical-align: top;\n",
       "    }\n",
       "\n",
       "    .dataframe thead th {\n",
       "        text-align: right;\n",
       "    }\n",
       "</style>\n",
       "<table border=\"1\" class=\"dataframe\">\n",
       "  <thead>\n",
       "    <tr style=\"text-align: right;\">\n",
       "      <th></th>\n",
       "      <th>year</th>\n",
       "      <th>viol</th>\n",
       "      <th>burg</th>\n",
       "      <th>rob</th>\n",
       "      <th>tomv</th>\n",
       "      <th>tfmv</th>\n",
       "      <th>asylumtot</th>\n",
       "      <th>totalpop</th>\n",
       "      <th>pop1524</th>\n",
       "      <th>pop014</th>\n",
       "      <th>urate</th>\n",
       "    </tr>\n",
       "  </thead>\n",
       "  <tbody>\n",
       "    <tr>\n",
       "      <th>0</th>\n",
       "      <td>1999</td>\n",
       "      <td>585445.0</td>\n",
       "      <td>443772.0</td>\n",
       "      <td>85746.0</td>\n",
       "      <td>374391.0</td>\n",
       "      <td>669600.0</td>\n",
       "      <td>0.0</td>\n",
       "      <td>51527600</td>\n",
       "      <td>6183000</td>\n",
       "      <td>9892900</td>\n",
       "      <td>1073.8</td>\n",
       "    </tr>\n",
       "    <tr>\n",
       "      <th>1</th>\n",
       "      <td>2000</td>\n",
       "      <td>606726.0</td>\n",
       "      <td>404980.0</td>\n",
       "      <td>96393.0</td>\n",
       "      <td>338366.0</td>\n",
       "      <td>630086.0</td>\n",
       "      <td>0.0</td>\n",
       "      <td>51729700</td>\n",
       "      <td>6231000</td>\n",
       "      <td>9831400</td>\n",
       "      <td>917.9</td>\n",
       "    </tr>\n",
       "    <tr>\n",
       "      <th>2</th>\n",
       "      <td>2001</td>\n",
       "      <td>649104.0</td>\n",
       "      <td>430742.0</td>\n",
       "      <td>121242.0</td>\n",
       "      <td>327728.0</td>\n",
       "      <td>654959.0</td>\n",
       "      <td>59605.0</td>\n",
       "      <td>51947600</td>\n",
       "      <td>6342200</td>\n",
       "      <td>9754600</td>\n",
       "      <td>792.6</td>\n",
       "    </tr>\n",
       "    <tr>\n",
       "      <th>3</th>\n",
       "      <td>2002</td>\n",
       "      <td>832821.0</td>\n",
       "      <td>437584.0</td>\n",
       "      <td>107883.0</td>\n",
       "      <td>316543.0</td>\n",
       "      <td>658816.0</td>\n",
       "      <td>85665.0</td>\n",
       "      <td>52157100</td>\n",
       "      <td>6473100</td>\n",
       "      <td>9685900</td>\n",
       "      <td>775.2</td>\n",
       "    </tr>\n",
       "    <tr>\n",
       "      <th>4</th>\n",
       "      <td>2003</td>\n",
       "      <td>953667.0</td>\n",
       "      <td>402618.0</td>\n",
       "      <td>101030.0</td>\n",
       "      <td>290284.0</td>\n",
       "      <td>598655.0</td>\n",
       "      <td>74178.0</td>\n",
       "      <td>52381400</td>\n",
       "      <td>6633400</td>\n",
       "      <td>9617100</td>\n",
       "      <td>770.0</td>\n",
       "    </tr>\n",
       "    <tr>\n",
       "      <th>5</th>\n",
       "      <td>2004</td>\n",
       "      <td>1032765.0</td>\n",
       "      <td>321858.0</td>\n",
       "      <td>88544.0</td>\n",
       "      <td>241679.0</td>\n",
       "      <td>497048.0</td>\n",
       "      <td>55551.0</td>\n",
       "      <td>52639600</td>\n",
       "      <td>6787700</td>\n",
       "      <td>9561400</td>\n",
       "      <td>680.4</td>\n",
       "    </tr>\n",
       "    <tr>\n",
       "      <th>6</th>\n",
       "      <td>2005</td>\n",
       "      <td>1042644.0</td>\n",
       "      <td>300564.0</td>\n",
       "      <td>95854.0</td>\n",
       "      <td>213322.0</td>\n",
       "      <td>503435.0</td>\n",
       "      <td>43819.0</td>\n",
       "      <td>53000000</td>\n",
       "      <td>6925500</td>\n",
       "      <td>9508000</td>\n",
       "      <td>700.7</td>\n",
       "    </tr>\n",
       "    <tr>\n",
       "      <th>7</th>\n",
       "      <td>2006</td>\n",
       "      <td>1027700.0</td>\n",
       "      <td>291990.0</td>\n",
       "      <td>99153.0</td>\n",
       "      <td>192740.0</td>\n",
       "      <td>498880.0</td>\n",
       "      <td>42409.0</td>\n",
       "      <td>53306100</td>\n",
       "      <td>7047000</td>\n",
       "      <td>9452800</td>\n",
       "      <td>788.9</td>\n",
       "    </tr>\n",
       "    <tr>\n",
       "      <th>8</th>\n",
       "      <td>2007</td>\n",
       "      <td>943822.0</td>\n",
       "      <td>280835.0</td>\n",
       "      <td>83564.0</td>\n",
       "      <td>169641.0</td>\n",
       "      <td>429694.0</td>\n",
       "      <td>38812.0</td>\n",
       "      <td>53646400</td>\n",
       "      <td>7169600</td>\n",
       "      <td>9443100</td>\n",
       "      <td>708.8</td>\n",
       "    </tr>\n",
       "    <tr>\n",
       "      <th>9</th>\n",
       "      <td>2008</td>\n",
       "      <td>886906.0</td>\n",
       "      <td>284329.0</td>\n",
       "      <td>79153.0</td>\n",
       "      <td>147093.0</td>\n",
       "      <td>393864.0</td>\n",
       "      <td>28202.0</td>\n",
       "      <td>53996400</td>\n",
       "      <td>7219600</td>\n",
       "      <td>9473900</td>\n",
       "      <td>695.9</td>\n",
       "    </tr>\n",
       "    <tr>\n",
       "      <th>10</th>\n",
       "      <td>2009</td>\n",
       "      <td>882596.0</td>\n",
       "      <td>276101.0</td>\n",
       "      <td>74959.0</td>\n",
       "      <td>120937.0</td>\n",
       "      <td>347080.0</td>\n",
       "      <td>25757.0</td>\n",
       "      <td>57836800</td>\n",
       "      <td>7638400</td>\n",
       "      <td>10099200</td>\n",
       "      <td>0.0</td>\n",
       "    </tr>\n",
       "  </tbody>\n",
       "</table>\n",
       "</div>"
      ],
      "text/plain": [
       "    year       viol      burg       rob      tomv      tfmv  asylumtot  \\\n",
       "0   1999   585445.0  443772.0   85746.0  374391.0  669600.0        0.0   \n",
       "1   2000   606726.0  404980.0   96393.0  338366.0  630086.0        0.0   \n",
       "2   2001   649104.0  430742.0  121242.0  327728.0  654959.0    59605.0   \n",
       "3   2002   832821.0  437584.0  107883.0  316543.0  658816.0    85665.0   \n",
       "4   2003   953667.0  402618.0  101030.0  290284.0  598655.0    74178.0   \n",
       "5   2004  1032765.0  321858.0   88544.0  241679.0  497048.0    55551.0   \n",
       "6   2005  1042644.0  300564.0   95854.0  213322.0  503435.0    43819.0   \n",
       "7   2006  1027700.0  291990.0   99153.0  192740.0  498880.0    42409.0   \n",
       "8   2007   943822.0  280835.0   83564.0  169641.0  429694.0    38812.0   \n",
       "9   2008   886906.0  284329.0   79153.0  147093.0  393864.0    28202.0   \n",
       "10  2009   882596.0  276101.0   74959.0  120937.0  347080.0    25757.0   \n",
       "\n",
       "    totalpop  pop1524    pop014   urate  \n",
       "0   51527600  6183000   9892900  1073.8  \n",
       "1   51729700  6231000   9831400   917.9  \n",
       "2   51947600  6342200   9754600   792.6  \n",
       "3   52157100  6473100   9685900   775.2  \n",
       "4   52381400  6633400   9617100   770.0  \n",
       "5   52639600  6787700   9561400   680.4  \n",
       "6   53000000  6925500   9508000   700.7  \n",
       "7   53306100  7047000   9452800   788.9  \n",
       "8   53646400  7169600   9443100   708.8  \n",
       "9   53996400  7219600   9473900   695.9  \n",
       "10  57836800  7638400  10099200     0.0  "
      ]
     },
     "execution_count": 73,
     "metadata": {},
     "output_type": "execute_result"
    }
   ],
   "source": [
    "data5_crimes"
   ]
  },
  {
   "cell_type": "code",
   "execution_count": 74,
   "metadata": {},
   "outputs": [],
   "source": [
    "# sum viol, burg, rob, tomb, tfmv by year\n",
    "data5_crimes[\"total_crimes\"] = data5_crimes[\"viol\"] + data5_crimes[\"burg\"] + data5_crimes[\"rob\"] + data5_crimes[\"tomv\"] + data5_crimes[\"tfmv\"]\n"
   ]
  },
  {
   "cell_type": "code",
   "execution_count": 75,
   "metadata": {},
   "outputs": [
    {
     "data": {
      "image/png": "[encoded data removed]",
      "text/plain": [
       "<Figure size 1440x720 with 1 Axes>"
      ]
     },
     "metadata": {},
     "output_type": "display_data"
    }
   ],
   "source": [
    "# now plot it by year\n",
    "sns.set(style=\"whitegrid\")\n",
    "plt.figure(figsize=(20,10))\n",
    "sns.barplot(x=\"year\", y=\"total_crimes\", data=data5_crimes)\n",
    "plt.xlabel(\"Year\")\n",
    "plt.ylabel(\"Number of Crimes\")\n",
    "plt.title(\"Number of Crimes per Year\")\n",
    "plt.show()"
   ]
  },
  {
   "attachments": {},
   "cell_type": "markdown",
   "metadata": {},
   "source": [
    "---"
   ]
  },
  {
   "attachments": {},
   "cell_type": "markdown",
   "metadata": {},
   "source": [
    "# IMPLEMENTATION"
   ]
  },
  {
   "attachments": {},
   "cell_type": "markdown",
   "metadata": {},
   "source": [
    "---"
   ]
  },
  {
   "cell_type": "code",
   "execution_count": 76,
   "metadata": {},
   "outputs": [],
   "source": [
    "import numpy as np\n",
    "import pandas as pd\n",
    "from sklearn.linear_model import LinearRegression\n",
    "import matplotlib.pyplot as plt\n",
    "from sklearn.metrics import mean_squared_error, accuracy_score, mean_absolute_error, r2_score"
   ]
  },
  {
   "attachments": {},
   "cell_type": "markdown",
   "metadata": {},
   "source": [
    "## Hypothesis\n",
    "**We can predict the number of immigration at upcoming years.**"
   ]
  },
  {
   "attachments": {},
   "cell_type": "markdown",
   "metadata": {},
   "source": [
    "## Implementation"
   ]
  },
  {
   "cell_type": "code",
   "execution_count": 77,
   "metadata": {},
   "outputs": [
    {
     "ename": "FileNotFoundError",
     "evalue": "[Errno 2] No such file or directory: 'book4_final.csv'",
     "output_type": "error",
     "traceback": [
      "\u001b[0;31m---------------------------------------------------------------------------\u001b[0m",
      "\u001b[0;31mFileNotFoundError\u001b[0m                         Traceback (most recent call last)",
      "\u001b[0;32m<ipython-input-77-6d0deb80dbbc>\u001b[0m in \u001b[0;36m<module>\u001b[0;34m\u001b[0m\n\u001b[1;32m      1\u001b[0m \u001b[0;31m#Importing Data\u001b[0m\u001b[0;34m\u001b[0m\u001b[0;34m\u001b[0m\u001b[0;34m\u001b[0m\u001b[0m\n\u001b[0;32m----> 2\u001b[0;31m \u001b[0mbook4\u001b[0m \u001b[0;34m=\u001b[0m \u001b[0mpd\u001b[0m\u001b[0;34m.\u001b[0m\u001b[0mread_csv\u001b[0m\u001b[0;34m(\u001b[0m\u001b[0;34m\"book4_final.csv\"\u001b[0m\u001b[0;34m)\u001b[0m\u001b[0;34m\u001b[0m\u001b[0;34m\u001b[0m\u001b[0m\n\u001b[0m",
      "\u001b[0;32m~/opt/anaconda3/lib/python3.8/site-packages/pandas/util/_decorators.py\u001b[0m in \u001b[0;36mwrapper\u001b[0;34m(*args, **kwargs)\u001b[0m\n\u001b[1;32m    309\u001b[0m                     \u001b[0mstacklevel\u001b[0m\u001b[0;34m=\u001b[0m\u001b[0mstacklevel\u001b[0m\u001b[0;34m,\u001b[0m\u001b[0;34m\u001b[0m\u001b[0;34m\u001b[0m\u001b[0m\n\u001b[1;32m    310\u001b[0m                 )\n\u001b[0;32m--> 311\u001b[0;31m             \u001b[0;32mreturn\u001b[0m \u001b[0mfunc\u001b[0m\u001b[0;34m(\u001b[0m\u001b[0;34m*\u001b[0m\u001b[0margs\u001b[0m\u001b[0;34m,\u001b[0m \u001b[0;34m**\u001b[0m\u001b[0mkwargs\u001b[0m\u001b[0;34m)\u001b[0m\u001b[0;34m\u001b[0m\u001b[0;34m\u001b[0m\u001b[0m\n\u001b[0m\u001b[1;32m    312\u001b[0m \u001b[0;34m\u001b[0m\u001b[0m\n\u001b[1;32m    313\u001b[0m         \u001b[0;32mreturn\u001b[0m \u001b[0mwrapper\u001b[0m\u001b[0;34m\u001b[0m\u001b[0;34m\u001b[0m\u001b[0m\n",
      "\u001b[0;32m~/opt/anaconda3/lib/python3.8/site-packages/pandas/io/parsers/readers.py\u001b[0m in \u001b[0;36mread_csv\u001b[0;34m(filepath_or_buffer, sep, delimiter, header, names, index_col, usecols, squeeze, prefix, mangle_dupe_cols, dtype, engine, converters, true_values, false_values, skipinitialspace, skiprows, skipfooter, nrows, na_values, keep_default_na, na_filter, verbose, skip_blank_lines, parse_dates, infer_datetime_format, keep_date_col, date_parser, dayfirst, cache_dates, iterator, chunksize, compression, thousands, decimal, lineterminator, quotechar, quoting, doublequote, escapechar, comment, encoding, encoding_errors, dialect, error_bad_lines, warn_bad_lines, on_bad_lines, delim_whitespace, low_memory, memory_map, float_precision, storage_options)\u001b[0m\n\u001b[1;32m    584\u001b[0m     \u001b[0mkwds\u001b[0m\u001b[0;34m.\u001b[0m\u001b[0mupdate\u001b[0m\u001b[0;34m(\u001b[0m\u001b[0mkwds_defaults\u001b[0m\u001b[0;34m)\u001b[0m\u001b[0;34m\u001b[0m\u001b[0;34m\u001b[0m\u001b[0m\n\u001b[1;32m    585\u001b[0m \u001b[0;34m\u001b[0m\u001b[0m\n\u001b[0;32m--> 586\u001b[0;31m     \u001b[0;32mreturn\u001b[0m \u001b[0m_read\u001b[0m\u001b[0;34m(\u001b[0m\u001b[0mfilepath_or_buffer\u001b[0m\u001b[0;34m,\u001b[0m \u001b[0mkwds\u001b[0m\u001b[0;34m)\u001b[0m\u001b[0;34m\u001b[0m\u001b[0;34m\u001b[0m\u001b[0m\n\u001b[0m\u001b[1;32m    587\u001b[0m \u001b[0;34m\u001b[0m\u001b[0m\n\u001b[1;32m    588\u001b[0m \u001b[0;34m\u001b[0m\u001b[0m\n",
      "\u001b[0;32m~/opt/anaconda3/lib/python3.8/site-packages/pandas/io/parsers/readers.py\u001b[0m in \u001b[0;36m_read\u001b[0;34m(filepath_or_buffer, kwds)\u001b[0m\n\u001b[1;32m    480\u001b[0m \u001b[0;34m\u001b[0m\u001b[0m\n\u001b[1;32m    481\u001b[0m     \u001b[0;31m# Create the parser.\u001b[0m\u001b[0;34m\u001b[0m\u001b[0;34m\u001b[0m\u001b[0;34m\u001b[0m\u001b[0m\n\u001b[0;32m--> 482\u001b[0;31m     \u001b[0mparser\u001b[0m \u001b[0;34m=\u001b[0m \u001b[0mTextFileReader\u001b[0m\u001b[0;34m(\u001b[0m\u001b[0mfilepath_or_buffer\u001b[0m\u001b[0;34m,\u001b[0m \u001b[0;34m**\u001b[0m\u001b[0mkwds\u001b[0m\u001b[0;34m)\u001b[0m\u001b[0;34m\u001b[0m\u001b[0;34m\u001b[0m\u001b[0m\n\u001b[0m\u001b[1;32m    483\u001b[0m \u001b[0;34m\u001b[0m\u001b[0m\n\u001b[1;32m    484\u001b[0m     \u001b[0;32mif\u001b[0m \u001b[0mchunksize\u001b[0m \u001b[0;32mor\u001b[0m \u001b[0miterator\u001b[0m\u001b[0;34m:\u001b[0m\u001b[0;34m\u001b[0m\u001b[0;34m\u001b[0m\u001b[0m\n",
      "\u001b[0;32m~/opt/anaconda3/lib/python3.8/site-packages/pandas/io/parsers/readers.py\u001b[0m in \u001b[0;36m__init__\u001b[0;34m(self, f, engine, **kwds)\u001b[0m\n\u001b[1;32m    809\u001b[0m             \u001b[0mself\u001b[0m\u001b[0;34m.\u001b[0m\u001b[0moptions\u001b[0m\u001b[0;34m[\u001b[0m\u001b[0;34m\"has_index_names\"\u001b[0m\u001b[0;34m]\u001b[0m \u001b[0;34m=\u001b[0m \u001b[0mkwds\u001b[0m\u001b[0;34m[\u001b[0m\u001b[0;34m\"has_index_names\"\u001b[0m\u001b[0;34m]\u001b[0m\u001b[0;34m\u001b[0m\u001b[0;34m\u001b[0m\u001b[0m\n\u001b[1;32m    810\u001b[0m \u001b[0;34m\u001b[0m\u001b[0m\n\u001b[0;32m--> 811\u001b[0;31m         \u001b[0mself\u001b[0m\u001b[0;34m.\u001b[0m\u001b[0m_engine\u001b[0m \u001b[0;34m=\u001b[0m \u001b[0mself\u001b[0m\u001b[0;34m.\u001b[0m\u001b[0m_make_engine\u001b[0m\u001b[0;34m(\u001b[0m\u001b[0mself\u001b[0m\u001b[0;34m.\u001b[0m\u001b[0mengine\u001b[0m\u001b[0;34m)\u001b[0m\u001b[0;34m\u001b[0m\u001b[0;34m\u001b[0m\u001b[0m\n\u001b[0m\u001b[1;32m    812\u001b[0m \u001b[0;34m\u001b[0m\u001b[0m\n\u001b[1;32m    813\u001b[0m     \u001b[0;32mdef\u001b[0m \u001b[0mclose\u001b[0m\u001b[0;34m(\u001b[0m\u001b[0mself\u001b[0m\u001b[0;34m)\u001b[0m\u001b[0;34m:\u001b[0m\u001b[0;34m\u001b[0m\u001b[0;34m\u001b[0m\u001b[0m\n",
      "\u001b[0;32m~/opt/anaconda3/lib/python3.8/site-packages/pandas/io/parsers/readers.py\u001b[0m in \u001b[0;36m_make_engine\u001b[0;34m(self, engine)\u001b[0m\n\u001b[1;32m   1038\u001b[0m             )\n\u001b[1;32m   1039\u001b[0m         \u001b[0;31m# error: Too many arguments for \"ParserBase\"\u001b[0m\u001b[0;34m\u001b[0m\u001b[0;34m\u001b[0m\u001b[0;34m\u001b[0m\u001b[0m\n\u001b[0;32m-> 1040\u001b[0;31m         \u001b[0;32mreturn\u001b[0m \u001b[0mmapping\u001b[0m\u001b[0;34m[\u001b[0m\u001b[0mengine\u001b[0m\u001b[0;34m]\u001b[0m\u001b[0;34m(\u001b[0m\u001b[0mself\u001b[0m\u001b[0;34m.\u001b[0m\u001b[0mf\u001b[0m\u001b[0;34m,\u001b[0m \u001b[0;34m**\u001b[0m\u001b[0mself\u001b[0m\u001b[0;34m.\u001b[0m\u001b[0moptions\u001b[0m\u001b[0;34m)\u001b[0m  \u001b[0;31m# type: ignore[call-arg]\u001b[0m\u001b[0;34m\u001b[0m\u001b[0;34m\u001b[0m\u001b[0m\n\u001b[0m\u001b[1;32m   1041\u001b[0m \u001b[0;34m\u001b[0m\u001b[0m\n\u001b[1;32m   1042\u001b[0m     \u001b[0;32mdef\u001b[0m \u001b[0m_failover_to_python\u001b[0m\u001b[0;34m(\u001b[0m\u001b[0mself\u001b[0m\u001b[0;34m)\u001b[0m\u001b[0;34m:\u001b[0m\u001b[0;34m\u001b[0m\u001b[0;34m\u001b[0m\u001b[0m\n",
      "\u001b[0;32m~/opt/anaconda3/lib/python3.8/site-packages/pandas/io/parsers/c_parser_wrapper.py\u001b[0m in \u001b[0;36m__init__\u001b[0;34m(self, src, **kwds)\u001b[0m\n\u001b[1;32m     49\u001b[0m \u001b[0;34m\u001b[0m\u001b[0m\n\u001b[1;32m     50\u001b[0m         \u001b[0;31m# open handles\u001b[0m\u001b[0;34m\u001b[0m\u001b[0;34m\u001b[0m\u001b[0;34m\u001b[0m\u001b[0m\n\u001b[0;32m---> 51\u001b[0;31m         \u001b[0mself\u001b[0m\u001b[0;34m.\u001b[0m\u001b[0m_open_handles\u001b[0m\u001b[0;34m(\u001b[0m\u001b[0msrc\u001b[0m\u001b[0;34m,\u001b[0m \u001b[0mkwds\u001b[0m\u001b[0;34m)\u001b[0m\u001b[0;34m\u001b[0m\u001b[0;34m\u001b[0m\u001b[0m\n\u001b[0m\u001b[1;32m     52\u001b[0m         \u001b[0;32massert\u001b[0m \u001b[0mself\u001b[0m\u001b[0;34m.\u001b[0m\u001b[0mhandles\u001b[0m \u001b[0;32mis\u001b[0m \u001b[0;32mnot\u001b[0m \u001b[0;32mNone\u001b[0m\u001b[0;34m\u001b[0m\u001b[0;34m\u001b[0m\u001b[0m\n\u001b[1;32m     53\u001b[0m \u001b[0;34m\u001b[0m\u001b[0m\n",
      "\u001b[0;32m~/opt/anaconda3/lib/python3.8/site-packages/pandas/io/parsers/base_parser.py\u001b[0m in \u001b[0;36m_open_handles\u001b[0;34m(self, src, kwds)\u001b[0m\n\u001b[1;32m    220\u001b[0m         \u001b[0mLet\u001b[0m \u001b[0mthe\u001b[0m \u001b[0mreaders\u001b[0m \u001b[0mopen\u001b[0m \u001b[0mIOHandles\u001b[0m \u001b[0mafter\u001b[0m \u001b[0mthey\u001b[0m \u001b[0mare\u001b[0m \u001b[0mdone\u001b[0m \u001b[0;32mwith\u001b[0m \u001b[0mtheir\u001b[0m \u001b[0mpotential\u001b[0m \u001b[0mraises\u001b[0m\u001b[0;34m.\u001b[0m\u001b[0;34m\u001b[0m\u001b[0;34m\u001b[0m\u001b[0m\n\u001b[1;32m    221\u001b[0m         \"\"\"\n\u001b[0;32m--> 222\u001b[0;31m         self.handles = get_handle(\n\u001b[0m\u001b[1;32m    223\u001b[0m             \u001b[0msrc\u001b[0m\u001b[0;34m,\u001b[0m\u001b[0;34m\u001b[0m\u001b[0;34m\u001b[0m\u001b[0m\n\u001b[1;32m    224\u001b[0m             \u001b[0;34m\"r\"\u001b[0m\u001b[0;34m,\u001b[0m\u001b[0;34m\u001b[0m\u001b[0;34m\u001b[0m\u001b[0m\n",
      "\u001b[0;32m~/opt/anaconda3/lib/python3.8/site-packages/pandas/io/common.py\u001b[0m in \u001b[0;36mget_handle\u001b[0;34m(path_or_buf, mode, encoding, compression, memory_map, is_text, errors, storage_options)\u001b[0m\n\u001b[1;32m    700\u001b[0m         \u001b[0;32mif\u001b[0m \u001b[0mioargs\u001b[0m\u001b[0;34m.\u001b[0m\u001b[0mencoding\u001b[0m \u001b[0;32mand\u001b[0m \u001b[0;34m\"b\"\u001b[0m \u001b[0;32mnot\u001b[0m \u001b[0;32min\u001b[0m \u001b[0mioargs\u001b[0m\u001b[0;34m.\u001b[0m\u001b[0mmode\u001b[0m\u001b[0;34m:\u001b[0m\u001b[0;34m\u001b[0m\u001b[0;34m\u001b[0m\u001b[0m\n\u001b[1;32m    701\u001b[0m             \u001b[0;31m# Encoding\u001b[0m\u001b[0;34m\u001b[0m\u001b[0;34m\u001b[0m\u001b[0;34m\u001b[0m\u001b[0m\n\u001b[0;32m--> 702\u001b[0;31m             handle = open(\n\u001b[0m\u001b[1;32m    703\u001b[0m                 \u001b[0mhandle\u001b[0m\u001b[0;34m,\u001b[0m\u001b[0;34m\u001b[0m\u001b[0;34m\u001b[0m\u001b[0m\n\u001b[1;32m    704\u001b[0m                 \u001b[0mioargs\u001b[0m\u001b[0;34m.\u001b[0m\u001b[0mmode\u001b[0m\u001b[0;34m,\u001b[0m\u001b[0;34m\u001b[0m\u001b[0;34m\u001b[0m\u001b[0m\n",
      "\u001b[0;31mFileNotFoundError\u001b[0m: [Errno 2] No such file or directory: 'book4_final.csv'"
     ]
    }
   ],
   "source": [
    "#Importing Data\n",
    "book4 = pd.read_csv(\"book4_final.csv\")"
   ]
  },
  {
   "cell_type": "code",
   "execution_count": 78,
   "metadata": {},
   "outputs": [
    {
     "ename": "NameError",
     "evalue": "name 'book4' is not defined",
     "output_type": "error",
     "traceback": [
      "\u001b[0;31m---------------------------------------------------------------------------\u001b[0m",
      "\u001b[0;31mNameError\u001b[0m                                 Traceback (most recent call last)",
      "\u001b[0;32m<ipython-input-78-42ebdc851008>\u001b[0m in \u001b[0;36m<module>\u001b[0;34m\u001b[0m\n\u001b[1;32m      1\u001b[0m \u001b[0;31m#Data Visualization.\u001b[0m\u001b[0;34m\u001b[0m\u001b[0;34m\u001b[0m\u001b[0;34m\u001b[0m\u001b[0m\n\u001b[0;32m----> 2\u001b[0;31m \u001b[0mbook4\u001b[0m\u001b[0;34m.\u001b[0m\u001b[0miloc\u001b[0m\u001b[0;34m[\u001b[0m\u001b[0;36m36\u001b[0m\u001b[0;34m:\u001b[0m\u001b[0;36m50\u001b[0m\u001b[0;34m]\u001b[0m\u001b[0;34m\u001b[0m\u001b[0;34m\u001b[0m\u001b[0m\n\u001b[0m",
      "\u001b[0;31mNameError\u001b[0m: name 'book4' is not defined"
     ]
    }
   ],
   "source": [
    "#Data Visualization.\n",
    "book4.iloc[36:50]"
   ]
  },
  {
   "cell_type": "code",
   "execution_count": 4,
   "metadata": {},
   "outputs": [],
   "source": [
    "#Creating sample dataframes for USA, Germany, UK and France.\n",
    "dfUSA = pd.DataFrame({'2000':0,'2001':0,'2002':0,'2003':0,'2004':0,'2005':0,'2006':0,'2007':0,'2008':0,'2009':0,\n",
    "'2010':0,'2011':0,'2012':0,'2013':0,'2014':0,'2015':0,'2016':0,'2017':0,'2018':0,'2019':0,'2020':0,'2021':0}, index=[0])\n",
    "dfGermany = dfUSA.copy()\n",
    "dfUK = dfUSA.copy()\n",
    "dfFrance = dfUK.copy()"
   ]
  },
  {
   "cell_type": "code",
   "execution_count": 5,
   "metadata": {},
   "outputs": [],
   "source": [
    "#Seperating every year's data for these four countries.\n",
    "\n",
    "years = [2000,2001,2002,2003,2004,2005,2006,2007,2008,2009,2010,2011,2012,2013,2014,2015,2016,2017,2018,2019,2020,2021]\n",
    "\n",
    "for i in years:\n",
    "    book4ForML = book4[book4[\"Country\"] == \"United States\"]\n",
    "    book4ForML = book4ForML[book4ForML[\"Year\"] == i]\n",
    "    book4ForML = book4ForML[book4ForML[\"Value\"] > 0]\n",
    "    book4ForML = book4ForML[book4ForML[\"VAR\"] == \"B14\"]\n",
    "    sum = book4ForML[\"Value\"].sum()\n",
    "    dfUSA[str(i)] = sum\n",
    "for i in years:\n",
    "    book4ForML = book4[book4[\"Country\"] == \"Germany\"]\n",
    "    book4ForML = book4ForML[book4ForML[\"Year\"] == i]\n",
    "    book4ForML = book4ForML[book4ForML[\"Value\"] > 0]\n",
    "    book4ForML = book4ForML[book4ForML[\"VAR\"] == \"B14\"]\n",
    "    sum = book4ForML[\"Value\"].sum()\n",
    "    dfGermany[str(i)] = sum\n",
    "for i in years:\n",
    "    book4ForML = book4[book4[\"Country\"] == \"United Kingdom\"]\n",
    "    book4ForML = book4ForML[book4ForML[\"Year\"] == i]\n",
    "    book4ForML = book4ForML[book4ForML[\"Value\"] > 0]\n",
    "    book4ForML = book4ForML[book4ForML[\"VAR\"] == \"B14\"]\n",
    "    sum = book4ForML[\"Value\"].sum()\n",
    "    dfUK[str(i)] = sum\n",
    "for i in years:\n",
    "    book4ForML = book4[book4[\"Country\"] == \"France\"]\n",
    "    book4ForML = book4ForML[book4ForML[\"Year\"] == i]\n",
    "    book4ForML = book4ForML[book4ForML[\"Value\"] > 0]\n",
    "    book4ForML = book4ForML[book4ForML[\"VAR\"] == \"B14\"]\n",
    "    sum = book4ForML[\"Value\"].sum()\n",
    "    dfFrance[str(i)] = sum"
   ]
  },
  {
   "cell_type": "code",
   "execution_count": 6,
   "metadata": {},
   "outputs": [],
   "source": [
    "#Creating model for these countries.\n",
    "modelUSA = LinearRegression()\n",
    "modelGermany = LinearRegression()\n",
    "modelUK = LinearRegression()\n",
    "modelFrance = LinearRegression()"
   ]
  },
  {
   "attachments": {},
   "cell_type": "markdown",
   "metadata": {},
   "source": [
    "Model Creating and Plotting for USA"
   ]
  },
  {
   "cell_type": "code",
   "execution_count": 7,
   "metadata": {},
   "outputs": [
    {
     "data": {
      "text/html": [
       "<style>#sk-container-id-1 {color: black;background-color: white;}#sk-container-id-1 pre{padding: 0;}#sk-container-id-1 div.sk-toggleable {background-color: white;}#sk-container-id-1 label.sk-toggleable__label {cursor: pointer;display: block;width: 100%;margin-bottom: 0;padding: 0.3em;box-sizing: border-box;text-align: center;}#sk-container-id-1 label.sk-toggleable__label-arrow:before {content: \"▸\";float: left;margin-right: 0.25em;color: #696969;}#sk-container-id-1 label.sk-toggleable__label-arrow:hover:before {color: black;}#sk-container-id-1 div.sk-estimator:hover label.sk-toggleable__label-arrow:before {color: black;}#sk-container-id-1 div.sk-toggleable__content {max-height: 0;max-width: 0;overflow: hidden;text-align: left;background-color: #f0f8ff;}#sk-container-id-1 div.sk-toggleable__content pre {margin: 0.2em;color: black;border-radius: 0.25em;background-color: #f0f8ff;}#sk-container-id-1 input.sk-toggleable__control:checked~div.sk-toggleable__content {max-height: 200px;max-width: 100%;overflow: auto;}#sk-container-id-1 input.sk-toggleable__control:checked~label.sk-toggleable__label-arrow:before {content: \"▾\";}#sk-container-id-1 div.sk-estimator input.sk-toggleable__control:checked~label.sk-toggleable__label {background-color: #d4ebff;}#sk-container-id-1 div.sk-label input.sk-toggleable__control:checked~label.sk-toggleable__label {background-color: #d4ebff;}#sk-container-id-1 input.sk-hidden--visually {border: 0;clip: rect(1px 1px 1px 1px);clip: rect(1px, 1px, 1px, 1px);height: 1px;margin: -1px;overflow: hidden;padding: 0;position: absolute;width: 1px;}#sk-container-id-1 div.sk-estimator {font-family: monospace;background-color: #f0f8ff;border: 1px dotted black;border-radius: 0.25em;box-sizing: border-box;margin-bottom: 0.5em;}#sk-container-id-1 div.sk-estimator:hover {background-color: #d4ebff;}#sk-container-id-1 div.sk-parallel-item::after {content: \"\";width: 100%;border-bottom: 1px solid gray;flex-grow: 1;}#sk-container-id-1 div.sk-label:hover label.sk-toggleable__label {background-color: #d4ebff;}#sk-container-id-1 div.sk-serial::before {content: \"\";position: absolute;border-left: 1px solid gray;box-sizing: border-box;top: 0;bottom: 0;left: 50%;z-index: 0;}#sk-container-id-1 div.sk-serial {display: flex;flex-direction: column;align-items: center;background-color: white;padding-right: 0.2em;padding-left: 0.2em;position: relative;}#sk-container-id-1 div.sk-item {position: relative;z-index: 1;}#sk-container-id-1 div.sk-parallel {display: flex;align-items: stretch;justify-content: center;background-color: white;position: relative;}#sk-container-id-1 div.sk-item::before, #sk-container-id-1 div.sk-parallel-item::before {content: \"\";position: absolute;border-left: 1px solid gray;box-sizing: border-box;top: 0;bottom: 0;left: 50%;z-index: -1;}#sk-container-id-1 div.sk-parallel-item {display: flex;flex-direction: column;z-index: 1;position: relative;background-color: white;}#sk-container-id-1 div.sk-parallel-item:first-child::after {align-self: flex-end;width: 50%;}#sk-container-id-1 div.sk-parallel-item:last-child::after {align-self: flex-start;width: 50%;}#sk-container-id-1 div.sk-parallel-item:only-child::after {width: 0;}#sk-container-id-1 div.sk-dashed-wrapped {border: 1px dashed gray;margin: 0 0.4em 0.5em 0.4em;box-sizing: border-box;padding-bottom: 0.4em;background-color: white;}#sk-container-id-1 div.sk-label label {font-family: monospace;font-weight: bold;display: inline-block;line-height: 1.2em;}#sk-container-id-1 div.sk-label-container {text-align: center;}#sk-container-id-1 div.sk-container {/* jupyter's `normalize.less` sets `[hidden] { display: none; }` but bootstrap.min.css set `[hidden] { display: none !important; }` so we also need the `!important` here to be able to override the default hidden behavior on the sphinx rendered scikit-learn.org. See: https://github.com/scikit-learn/scikit-learn/issues/21755 */display: inline-block !important;position: relative;}#sk-container-id-1 div.sk-text-repr-fallback {display: none;}</style><div id=\"sk-container-id-1\" class=\"sk-top-container\"><div class=\"sk-text-repr-fallback\"><pre>LinearRegression()</pre><b>In a Jupyter environment, please rerun this cell to show the HTML representation or trust the notebook. <br />On GitHub, the HTML representation is unable to render, please try loading this page with nbviewer.org.</b></div><div class=\"sk-container\" hidden><div class=\"sk-item\"><div class=\"sk-estimator sk-toggleable\"><input class=\"sk-toggleable__control sk-hidden--visually\" id=\"sk-estimator-id-1\" type=\"checkbox\" checked><label for=\"sk-estimator-id-1\" class=\"sk-toggleable__label sk-toggleable__label-arrow\">LinearRegression</label><div class=\"sk-toggleable__content\"><pre>LinearRegression()</pre></div></div></div></div></div>"
      ],
      "text/plain": [
       "LinearRegression()"
      ]
     },
     "execution_count": 7,
     "metadata": {},
     "output_type": "execute_result"
    }
   ],
   "source": [
    "modelUSA.fit(np.array(dfUSA.columns).reshape(-1,1), dfUSA.iloc[0])"
   ]
  },
  {
   "cell_type": "code",
   "execution_count": 8,
   "metadata": {},
   "outputs": [],
   "source": [
    "predictionsUSA = modelUSA.predict(np.array(dfUSA.columns).reshape(-1,1))"
   ]
  },
  {
   "cell_type": "code",
   "execution_count": 9,
   "metadata": {},
   "outputs": [
    {
     "data": {
      "text/plain": [
       "Text(0, 0.5, 'Immigration')"
      ]
     },
     "execution_count": 9,
     "metadata": {},
     "output_type": "execute_result"
    },
    {
     "data": {
      "image/png": "[encoded data removed]",
      "text/plain": [
       "<Figure size 1200x600 with 1 Axes>"
      ]
     },
     "metadata": {},
     "output_type": "display_data"
    }
   ],
   "source": [
    "plt.figure(figsize=(12,6))\n",
    "plt.scatter(dfUSA.columns, dfUSA.iloc[0], color=\"black\")\n",
    "plt.plot(dfUSA.columns, predictionsUSA, color=\"blue\", linewidth=3)\n",
    "\n",
    "plt.title(\"Immigration by Year - USA\")\n",
    "plt.xlabel(\"Year\")\n",
    "plt.ylabel(\"Immigration\")"
   ]
  },
  {
   "attachments": {},
   "cell_type": "markdown",
   "metadata": {},
   "source": [
    "Model Creating and Plotting for Germany"
   ]
  },
  {
   "cell_type": "code",
   "execution_count": 10,
   "metadata": {},
   "outputs": [
    {
     "data": {
      "text/html": [
       "<style>#sk-container-id-2 {color: black;background-color: white;}#sk-container-id-2 pre{padding: 0;}#sk-container-id-2 div.sk-toggleable {background-color: white;}#sk-container-id-2 label.sk-toggleable__label {cursor: pointer;display: block;width: 100%;margin-bottom: 0;padding: 0.3em;box-sizing: border-box;text-align: center;}#sk-container-id-2 label.sk-toggleable__label-arrow:before {content: \"▸\";float: left;margin-right: 0.25em;color: #696969;}#sk-container-id-2 label.sk-toggleable__label-arrow:hover:before {color: black;}#sk-container-id-2 div.sk-estimator:hover label.sk-toggleable__label-arrow:before {color: black;}#sk-container-id-2 div.sk-toggleable__content {max-height: 0;max-width: 0;overflow: hidden;text-align: left;background-color: #f0f8ff;}#sk-container-id-2 div.sk-toggleable__content pre {margin: 0.2em;color: black;border-radius: 0.25em;background-color: #f0f8ff;}#sk-container-id-2 input.sk-toggleable__control:checked~div.sk-toggleable__content {max-height: 200px;max-width: 100%;overflow: auto;}#sk-container-id-2 input.sk-toggleable__control:checked~label.sk-toggleable__label-arrow:before {content: \"▾\";}#sk-container-id-2 div.sk-estimator input.sk-toggleable__control:checked~label.sk-toggleable__label {background-color: #d4ebff;}#sk-container-id-2 div.sk-label input.sk-toggleable__control:checked~label.sk-toggleable__label {background-color: #d4ebff;}#sk-container-id-2 input.sk-hidden--visually {border: 0;clip: rect(1px 1px 1px 1px);clip: rect(1px, 1px, 1px, 1px);height: 1px;margin: -1px;overflow: hidden;padding: 0;position: absolute;width: 1px;}#sk-container-id-2 div.sk-estimator {font-family: monospace;background-color: #f0f8ff;border: 1px dotted black;border-radius: 0.25em;box-sizing: border-box;margin-bottom: 0.5em;}#sk-container-id-2 div.sk-estimator:hover {background-color: #d4ebff;}#sk-container-id-2 div.sk-parallel-item::after {content: \"\";width: 100%;border-bottom: 1px solid gray;flex-grow: 1;}#sk-container-id-2 div.sk-label:hover label.sk-toggleable__label {background-color: #d4ebff;}#sk-container-id-2 div.sk-serial::before {content: \"\";position: absolute;border-left: 1px solid gray;box-sizing: border-box;top: 0;bottom: 0;left: 50%;z-index: 0;}#sk-container-id-2 div.sk-serial {display: flex;flex-direction: column;align-items: center;background-color: white;padding-right: 0.2em;padding-left: 0.2em;position: relative;}#sk-container-id-2 div.sk-item {position: relative;z-index: 1;}#sk-container-id-2 div.sk-parallel {display: flex;align-items: stretch;justify-content: center;background-color: white;position: relative;}#sk-container-id-2 div.sk-item::before, #sk-container-id-2 div.sk-parallel-item::before {content: \"\";position: absolute;border-left: 1px solid gray;box-sizing: border-box;top: 0;bottom: 0;left: 50%;z-index: -1;}#sk-container-id-2 div.sk-parallel-item {display: flex;flex-direction: column;z-index: 1;position: relative;background-color: white;}#sk-container-id-2 div.sk-parallel-item:first-child::after {align-self: flex-end;width: 50%;}#sk-container-id-2 div.sk-parallel-item:last-child::after {align-self: flex-start;width: 50%;}#sk-container-id-2 div.sk-parallel-item:only-child::after {width: 0;}#sk-container-id-2 div.sk-dashed-wrapped {border: 1px dashed gray;margin: 0 0.4em 0.5em 0.4em;box-sizing: border-box;padding-bottom: 0.4em;background-color: white;}#sk-container-id-2 div.sk-label label {font-family: monospace;font-weight: bold;display: inline-block;line-height: 1.2em;}#sk-container-id-2 div.sk-label-container {text-align: center;}#sk-container-id-2 div.sk-container {/* jupyter's `normalize.less` sets `[hidden] { display: none; }` but bootstrap.min.css set `[hidden] { display: none !important; }` so we also need the `!important` here to be able to override the default hidden behavior on the sphinx rendered scikit-learn.org. See: https://github.com/scikit-learn/scikit-learn/issues/21755 */display: inline-block !important;position: relative;}#sk-container-id-2 div.sk-text-repr-fallback {display: none;}</style><div id=\"sk-container-id-2\" class=\"sk-top-container\"><div class=\"sk-text-repr-fallback\"><pre>LinearRegression()</pre><b>In a Jupyter environment, please rerun this cell to show the HTML representation or trust the notebook. <br />On GitHub, the HTML representation is unable to render, please try loading this page with nbviewer.org.</b></div><div class=\"sk-container\" hidden><div class=\"sk-item\"><div class=\"sk-estimator sk-toggleable\"><input class=\"sk-toggleable__control sk-hidden--visually\" id=\"sk-estimator-id-2\" type=\"checkbox\" checked><label for=\"sk-estimator-id-2\" class=\"sk-toggleable__label sk-toggleable__label-arrow\">LinearRegression</label><div class=\"sk-toggleable__content\"><pre>LinearRegression()</pre></div></div></div></div></div>"
      ],
      "text/plain": [
       "LinearRegression()"
      ]
     },
     "execution_count": 10,
     "metadata": {},
     "output_type": "execute_result"
    }
   ],
   "source": [
    "modelGermany.fit(np.array(dfGermany.columns[6:]).reshape(-1,1), dfGermany.iloc[0][6:])"
   ]
  },
  {
   "cell_type": "code",
   "execution_count": 11,
   "metadata": {},
   "outputs": [],
   "source": [
    "predictionsGermany = modelGermany.predict(np.array(dfGermany.columns[6:]).reshape(-1,1))"
   ]
  },
  {
   "cell_type": "code",
   "execution_count": 12,
   "metadata": {},
   "outputs": [
    {
     "data": {
      "text/plain": [
       "Text(0, 0.5, 'Immigration')"
      ]
     },
     "execution_count": 12,
     "metadata": {},
     "output_type": "execute_result"
    },
    {
     "data": {
      "image/png": "[encoded data removed]",
      "text/plain": [
       "<Figure size 800x600 with 1 Axes>"
      ]
     },
     "metadata": {},
     "output_type": "display_data"
    }
   ],
   "source": [
    "plt.figure(figsize=(8,6))\n",
    "plt.scatter(dfGermany.columns[6:], dfGermany.iloc[0][6:], color=\"black\")\n",
    "plt.plot(dfGermany.columns[6:], predictionsGermany, color=\"blue\", linewidth=3)\n",
    "\n",
    "plt.title(\"Immigration by Year - Germany\")\n",
    "plt.xlabel(\"Year\")\n",
    "plt.ylabel(\"Immigration\")"
   ]
  },
  {
   "attachments": {},
   "cell_type": "markdown",
   "metadata": {},
   "source": [
    "Model Creating and Plotting for UK"
   ]
  },
  {
   "cell_type": "code",
   "execution_count": 13,
   "metadata": {},
   "outputs": [
    {
     "data": {
      "text/html": [
       "<style>#sk-container-id-3 {color: black;background-color: white;}#sk-container-id-3 pre{padding: 0;}#sk-container-id-3 div.sk-toggleable {background-color: white;}#sk-container-id-3 label.sk-toggleable__label {cursor: pointer;display: block;width: 100%;margin-bottom: 0;padding: 0.3em;box-sizing: border-box;text-align: center;}#sk-container-id-3 label.sk-toggleable__label-arrow:before {content: \"▸\";float: left;margin-right: 0.25em;color: #696969;}#sk-container-id-3 label.sk-toggleable__label-arrow:hover:before {color: black;}#sk-container-id-3 div.sk-estimator:hover label.sk-toggleable__label-arrow:before {color: black;}#sk-container-id-3 div.sk-toggleable__content {max-height: 0;max-width: 0;overflow: hidden;text-align: left;background-color: #f0f8ff;}#sk-container-id-3 div.sk-toggleable__content pre {margin: 0.2em;color: black;border-radius: 0.25em;background-color: #f0f8ff;}#sk-container-id-3 input.sk-toggleable__control:checked~div.sk-toggleable__content {max-height: 200px;max-width: 100%;overflow: auto;}#sk-container-id-3 input.sk-toggleable__control:checked~label.sk-toggleable__label-arrow:before {content: \"▾\";}#sk-container-id-3 div.sk-estimator input.sk-toggleable__control:checked~label.sk-toggleable__label {background-color: #d4ebff;}#sk-container-id-3 div.sk-label input.sk-toggleable__control:checked~label.sk-toggleable__label {background-color: #d4ebff;}#sk-container-id-3 input.sk-hidden--visually {border: 0;clip: rect(1px 1px 1px 1px);clip: rect(1px, 1px, 1px, 1px);height: 1px;margin: -1px;overflow: hidden;padding: 0;position: absolute;width: 1px;}#sk-container-id-3 div.sk-estimator {font-family: monospace;background-color: #f0f8ff;border: 1px dotted black;border-radius: 0.25em;box-sizing: border-box;margin-bottom: 0.5em;}#sk-container-id-3 div.sk-estimator:hover {background-color: #d4ebff;}#sk-container-id-3 div.sk-parallel-item::after {content: \"\";width: 100%;border-bottom: 1px solid gray;flex-grow: 1;}#sk-container-id-3 div.sk-label:hover label.sk-toggleable__label {background-color: #d4ebff;}#sk-container-id-3 div.sk-serial::before {content: \"\";position: absolute;border-left: 1px solid gray;box-sizing: border-box;top: 0;bottom: 0;left: 50%;z-index: 0;}#sk-container-id-3 div.sk-serial {display: flex;flex-direction: column;align-items: center;background-color: white;padding-right: 0.2em;padding-left: 0.2em;position: relative;}#sk-container-id-3 div.sk-item {position: relative;z-index: 1;}#sk-container-id-3 div.sk-parallel {display: flex;align-items: stretch;justify-content: center;background-color: white;position: relative;}#sk-container-id-3 div.sk-item::before, #sk-container-id-3 div.sk-parallel-item::before {content: \"\";position: absolute;border-left: 1px solid gray;box-sizing: border-box;top: 0;bottom: 0;left: 50%;z-index: -1;}#sk-container-id-3 div.sk-parallel-item {display: flex;flex-direction: column;z-index: 1;position: relative;background-color: white;}#sk-container-id-3 div.sk-parallel-item:first-child::after {align-self: flex-end;width: 50%;}#sk-container-id-3 div.sk-parallel-item:last-child::after {align-self: flex-start;width: 50%;}#sk-container-id-3 div.sk-parallel-item:only-child::after {width: 0;}#sk-container-id-3 div.sk-dashed-wrapped {border: 1px dashed gray;margin: 0 0.4em 0.5em 0.4em;box-sizing: border-box;padding-bottom: 0.4em;background-color: white;}#sk-container-id-3 div.sk-label label {font-family: monospace;font-weight: bold;display: inline-block;line-height: 1.2em;}#sk-container-id-3 div.sk-label-container {text-align: center;}#sk-container-id-3 div.sk-container {/* jupyter's `normalize.less` sets `[hidden] { display: none; }` but bootstrap.min.css set `[hidden] { display: none !important; }` so we also need the `!important` here to be able to override the default hidden behavior on the sphinx rendered scikit-learn.org. See: https://github.com/scikit-learn/scikit-learn/issues/21755 */display: inline-block !important;position: relative;}#sk-container-id-3 div.sk-text-repr-fallback {display: none;}</style><div id=\"sk-container-id-3\" class=\"sk-top-container\"><div class=\"sk-text-repr-fallback\"><pre>LinearRegression()</pre><b>In a Jupyter environment, please rerun this cell to show the HTML representation or trust the notebook. <br />On GitHub, the HTML representation is unable to render, please try loading this page with nbviewer.org.</b></div><div class=\"sk-container\" hidden><div class=\"sk-item\"><div class=\"sk-estimator sk-toggleable\"><input class=\"sk-toggleable__control sk-hidden--visually\" id=\"sk-estimator-id-3\" type=\"checkbox\" checked><label for=\"sk-estimator-id-3\" class=\"sk-toggleable__label sk-toggleable__label-arrow\">LinearRegression</label><div class=\"sk-toggleable__content\"><pre>LinearRegression()</pre></div></div></div></div></div>"
      ],
      "text/plain": [
       "LinearRegression()"
      ]
     },
     "execution_count": 13,
     "metadata": {},
     "output_type": "execute_result"
    }
   ],
   "source": [
    "modelUK.fit(np.array(dfUK.columns[6:21]).reshape(-1,1), dfUK.iloc[0][6:21])"
   ]
  },
  {
   "cell_type": "code",
   "execution_count": 14,
   "metadata": {},
   "outputs": [],
   "source": [
    "predictionsUK = modelUK.predict(np.array(dfUK.columns[6:21]).reshape(-1,1))"
   ]
  },
  {
   "cell_type": "code",
   "execution_count": 15,
   "metadata": {},
   "outputs": [
    {
     "data": {
      "text/plain": [
       "Text(0, 0.5, 'Immigration')"
      ]
     },
     "execution_count": 15,
     "metadata": {},
     "output_type": "execute_result"
    },
    {
     "data": {
      "image/png": "[encoded data removed]",
      "text/plain": [
       "<Figure size 800x600 with 1 Axes>"
      ]
     },
     "metadata": {},
     "output_type": "display_data"
    }
   ],
   "source": [
    "plt.figure(figsize=(8,6))\n",
    "plt.scatter(dfUK.columns[6:21], dfUK.iloc[0][6:21], color=\"black\")\n",
    "plt.plot(dfUK.columns[6:21], predictionsUK, color=\"blue\", linewidth=3)\n",
    "\n",
    "plt.title(\"Immigration by Year - UK\")\n",
    "plt.xlabel(\"Year\")\n",
    "plt.ylabel(\"Immigration\")"
   ]
  },
  {
   "attachments": {},
   "cell_type": "markdown",
   "metadata": {},
   "source": [
    "Model Creating and Plotting for France"
   ]
  },
  {
   "cell_type": "code",
   "execution_count": 16,
   "metadata": {},
   "outputs": [
    {
     "data": {
      "text/html": [
       "<style>#sk-container-id-4 {color: black;background-color: white;}#sk-container-id-4 pre{padding: 0;}#sk-container-id-4 div.sk-toggleable {background-color: white;}#sk-container-id-4 label.sk-toggleable__label {cursor: pointer;display: block;width: 100%;margin-bottom: 0;padding: 0.3em;box-sizing: border-box;text-align: center;}#sk-container-id-4 label.sk-toggleable__label-arrow:before {content: \"▸\";float: left;margin-right: 0.25em;color: #696969;}#sk-container-id-4 label.sk-toggleable__label-arrow:hover:before {color: black;}#sk-container-id-4 div.sk-estimator:hover label.sk-toggleable__label-arrow:before {color: black;}#sk-container-id-4 div.sk-toggleable__content {max-height: 0;max-width: 0;overflow: hidden;text-align: left;background-color: #f0f8ff;}#sk-container-id-4 div.sk-toggleable__content pre {margin: 0.2em;color: black;border-radius: 0.25em;background-color: #f0f8ff;}#sk-container-id-4 input.sk-toggleable__control:checked~div.sk-toggleable__content {max-height: 200px;max-width: 100%;overflow: auto;}#sk-container-id-4 input.sk-toggleable__control:checked~label.sk-toggleable__label-arrow:before {content: \"▾\";}#sk-container-id-4 div.sk-estimator input.sk-toggleable__control:checked~label.sk-toggleable__label {background-color: #d4ebff;}#sk-container-id-4 div.sk-label input.sk-toggleable__control:checked~label.sk-toggleable__label {background-color: #d4ebff;}#sk-container-id-4 input.sk-hidden--visually {border: 0;clip: rect(1px 1px 1px 1px);clip: rect(1px, 1px, 1px, 1px);height: 1px;margin: -1px;overflow: hidden;padding: 0;position: absolute;width: 1px;}#sk-container-id-4 div.sk-estimator {font-family: monospace;background-color: #f0f8ff;border: 1px dotted black;border-radius: 0.25em;box-sizing: border-box;margin-bottom: 0.5em;}#sk-container-id-4 div.sk-estimator:hover {background-color: #d4ebff;}#sk-container-id-4 div.sk-parallel-item::after {content: \"\";width: 100%;border-bottom: 1px solid gray;flex-grow: 1;}#sk-container-id-4 div.sk-label:hover label.sk-toggleable__label {background-color: #d4ebff;}#sk-container-id-4 div.sk-serial::before {content: \"\";position: absolute;border-left: 1px solid gray;box-sizing: border-box;top: 0;bottom: 0;left: 50%;z-index: 0;}#sk-container-id-4 div.sk-serial {display: flex;flex-direction: column;align-items: center;background-color: white;padding-right: 0.2em;padding-left: 0.2em;position: relative;}#sk-container-id-4 div.sk-item {position: relative;z-index: 1;}#sk-container-id-4 div.sk-parallel {display: flex;align-items: stretch;justify-content: center;background-color: white;position: relative;}#sk-container-id-4 div.sk-item::before, #sk-container-id-4 div.sk-parallel-item::before {content: \"\";position: absolute;border-left: 1px solid gray;box-sizing: border-box;top: 0;bottom: 0;left: 50%;z-index: -1;}#sk-container-id-4 div.sk-parallel-item {display: flex;flex-direction: column;z-index: 1;position: relative;background-color: white;}#sk-container-id-4 div.sk-parallel-item:first-child::after {align-self: flex-end;width: 50%;}#sk-container-id-4 div.sk-parallel-item:last-child::after {align-self: flex-start;width: 50%;}#sk-container-id-4 div.sk-parallel-item:only-child::after {width: 0;}#sk-container-id-4 div.sk-dashed-wrapped {border: 1px dashed gray;margin: 0 0.4em 0.5em 0.4em;box-sizing: border-box;padding-bottom: 0.4em;background-color: white;}#sk-container-id-4 div.sk-label label {font-family: monospace;font-weight: bold;display: inline-block;line-height: 1.2em;}#sk-container-id-4 div.sk-label-container {text-align: center;}#sk-container-id-4 div.sk-container {/* jupyter's `normalize.less` sets `[hidden] { display: none; }` but bootstrap.min.css set `[hidden] { display: none !important; }` so we also need the `!important` here to be able to override the default hidden behavior on the sphinx rendered scikit-learn.org. See: https://github.com/scikit-learn/scikit-learn/issues/21755 */display: inline-block !important;position: relative;}#sk-container-id-4 div.sk-text-repr-fallback {display: none;}</style><div id=\"sk-container-id-4\" class=\"sk-top-container\"><div class=\"sk-text-repr-fallback\"><pre>LinearRegression()</pre><b>In a Jupyter environment, please rerun this cell to show the HTML representation or trust the notebook. <br />On GitHub, the HTML representation is unable to render, please try loading this page with nbviewer.org.</b></div><div class=\"sk-container\" hidden><div class=\"sk-item\"><div class=\"sk-estimator sk-toggleable\"><input class=\"sk-toggleable__control sk-hidden--visually\" id=\"sk-estimator-id-4\" type=\"checkbox\" checked><label for=\"sk-estimator-id-4\" class=\"sk-toggleable__label sk-toggleable__label-arrow\">LinearRegression</label><div class=\"sk-toggleable__content\"><pre>LinearRegression()</pre></div></div></div></div></div>"
      ],
      "text/plain": [
       "LinearRegression()"
      ]
     },
     "execution_count": 16,
     "metadata": {},
     "output_type": "execute_result"
    }
   ],
   "source": [
    "modelFrance.fit(np.array(dfFrance.columns[6:21]).reshape(-1,1), dfFrance.iloc[0][6:21])"
   ]
  },
  {
   "cell_type": "code",
   "execution_count": 17,
   "metadata": {},
   "outputs": [],
   "source": [
    "predictionsFrance = modelFrance.predict(np.array(dfFrance.columns[6:21]).reshape(-1,1))"
   ]
  },
  {
   "cell_type": "code",
   "execution_count": 18,
   "metadata": {},
   "outputs": [
    {
     "data": {
      "text/plain": [
       "Text(0, 0.5, 'Immigration')"
      ]
     },
     "execution_count": 18,
     "metadata": {},
     "output_type": "execute_result"
    },
    {
     "data": {
      "image/png": "[encoded data removed]",
      "text/plain": [
       "<Figure size 800x600 with 1 Axes>"
      ]
     },
     "metadata": {},
     "output_type": "display_data"
    }
   ],
   "source": [
    "plt.figure(figsize=(8,6))\n",
    "plt.scatter(dfFrance.columns[6:21], dfFrance.iloc[0][6:21], color=\"black\")\n",
    "plt.plot(dfFrance.columns[6:21], predictionsFrance, color=\"blue\", linewidth=3)\n",
    "\n",
    "plt.title(\"Immigration by Year - France\")\n",
    "plt.xlabel(\"Year\")\n",
    "plt.ylabel(\"Immigration\")"
   ]
  },
  {
   "attachments": {},
   "cell_type": "markdown",
   "metadata": {},
   "source": [
    "Error Calculating"
   ]
  },
  {
   "cell_type": "code",
   "execution_count": 19,
   "metadata": {},
   "outputs": [
    {
     "name": "stdout",
     "output_type": "stream",
     "text": [
      "RMSE For USA:2337273.102407186\n",
      "RMSE For Germany:1112985.5241332406\n",
      "RMSE For United Kingdom:513617.9790219114\n",
      "RMSE For France:81152.63222019929\n"
     ]
    }
   ],
   "source": [
    "print(\"RMSE For USA:{}\".format(np.sqrt(mean_squared_error(dfUSA.iloc[0], predictionsUSA))))\n",
    "print(\"RMSE For Germany:{}\".format(np.sqrt(mean_squared_error(dfGermany.iloc[0][6:], predictionsGermany))))\n",
    "print(\"RMSE For United Kingdom:{}\".format(np.sqrt(mean_squared_error(dfUK.iloc[0][6:21], predictionsUK))))\n",
    "print(\"RMSE For France:{}\".format(np.sqrt(mean_squared_error(dfFrance.iloc[0][6:21], predictionsFrance))))"
   ]
  },
  {
   "cell_type": "code",
   "execution_count": 20,
   "metadata": {},
   "outputs": [
    {
     "name": "stdout",
     "output_type": "stream",
     "text": [
      "MSE For USA: 5462845555236.112\n",
      "R2 Score For USA: 0.9257587768429616\n",
      "MSE For Germany: 1238736776930.144\n",
      "R2 Score For Germany: 0.8147281646869403\n",
      "MSE For United Kingdom: 263803428374.5526\n",
      "R2 Score For United Kingdom: 0.9492542078306342\n",
      "MSE For France: 6585749716.266929\n",
      "R2 Score For France: 0.9939317244727585\n"
     ]
    }
   ],
   "source": [
    "print(\"MSE For USA: {}\".format(mean_squared_error(dfUSA.iloc[0], predictionsUSA)))\n",
    "print(\"R2 Score For USA: {}\".format(r2_score(dfUSA.iloc[0], predictionsUSA)))\n",
    "print(\"MSE For Germany: {}\".format(mean_squared_error(dfGermany.iloc[0][6:], predictionsGermany)))\n",
    "print(\"R2 Score For Germany: {}\".format(r2_score(dfGermany.iloc[0][6:], predictionsGermany)))\n",
    "print(\"MSE For United Kingdom: {}\".format(mean_squared_error(dfUK.iloc[0][6:21], predictionsUK)))\n",
    "print(\"R2 Score For United Kingdom: {}\".format(r2_score(dfUK.iloc[0][6:21], predictionsUK)))\n",
    "print(\"MSE For France: {}\".format(mean_squared_error(dfFrance.iloc[0][6:21], predictionsFrance)))\n",
    "print(\"R2 Score For France: {}\".format(r2_score(dfFrance.iloc[0][6:21], predictionsFrance)))"
   ]
  },
  {
   "attachments": {},
   "cell_type": "markdown",
   "metadata": {},
   "source": [
    "As seen r2 score is great. So linear regression is a good fit for this dataser. MSE is high because numbers are high, so square of their differences must be high. That is not a good indicator at this point."
   ]
  },
  {
   "cell_type": "code",
   "execution_count": 21,
   "metadata": {},
   "outputs": [
    {
     "name": "stdout",
     "output_type": "stream",
     "text": [
      "Immigration Stats Predict For USA at 2023: 93875267\n",
      "Immigration Stats Predict For Germany at 2023: 26576329\n",
      "Immigration Stats Predict For UK at 2023: 20084780\n",
      "Immigration Stats Predict For France at 2023: 17658487\n"
     ]
    }
   ],
   "source": [
    "print(\"Immigration Stats Predict For USA at 2023: {}\".format(int(modelUSA.predict([[2023]]))))\n",
    "print(\"Immigration Stats Predict For Germany at 2023: {}\".format(int(modelGermany.predict([[2023]]))))\n",
    "print(\"Immigration Stats Predict For UK at 2023: {}\".format(int(modelUK.predict([[2023]]))))\n",
    "print(\"Immigration Stats Predict For France at 2023: {}\".format(int(modelFrance.predict([[2023]]))))"
   ]
  },
  {
   "attachments": {},
   "cell_type": "markdown",
   "metadata": {},
   "source": [
    "---"
   ]
  },
  {
   "attachments": {},
   "cell_type": "markdown",
   "metadata": {},
   "source": [
    "## Conclusion\n",
    "**Even though wars and pandemics impact the immigration rate, every year; these kind of situations happens. And the countries that get the most immigrants generally don't change because of the fact that they are one of the most developed countries. Since every year immigration to developed countries multiple, immigration rate of upcoming years are predictable.**"
   ]
  },
  {
   "attachments": {},
   "cell_type": "markdown",
   "metadata": {},
   "source": [
    "---"
   ]
  },
  {
   "attachments": {},
   "cell_type": "markdown",
   "metadata": {},
   "source": [
    "### Research Question: If a pick happened at immigration rates, positive or negative, what is its reason; historical events, wars, collapse of economy?\n",
    "\n",
    "To possibly answer this first question, we will need to take a look at the dataset first. Just like a churn value, there should be a column that shows the reasoning of the person for immigrating to the country. For example, if someone is entering to the country to work, there should be a label that says “work” to represent that the person is there to work in there. This will improve the quality of the ML model while deciding if people are coming because of a war or something else. \n",
    "Another thing to improve the mode is regression analysis of immigration rates and other factors we choose (should be in the dataset of course)\n",
    "\n",
    "\n",
    "Also classification algorithms to predict the immigration rates based on certain factors (war, economic worries and such)\n",
    "We can use clustering algorithms to identify groups of countries or regions with similar immigration patterns. \n",
    "Testing methods such as cross-validation, accuracy, recall are helpful to measure the performance of the model we choose to apply. Many other metrics can be applied (for example MAE or MSE)\n"
   ]
  },
  {
   "attachments": {},
   "cell_type": "markdown",
   "metadata": {},
   "source": [
    "---"
   ]
  },
  {
   "attachments": {},
   "cell_type": "markdown",
   "metadata": {},
   "source": [
    "### Research Question: Is there a correlation between crime rates and immigration statistics?\n",
    "For this, clustering algorithms will help us on differentiating crime types and rates with immigration from different countries. For example X immigrant coming from X country might be more likely to steal cars when Y immigrant is focused on stealing bags. \n",
    "Also regression analysis are helpful for this too. R2, MSE and other testing metrics will be helpful for this.\n"
   ]
  },
  {
   "attachments": {},
   "cell_type": "markdown",
   "metadata": {},
   "source": [
    "---"
   ]
  },
  {
   "attachments": {},
   "cell_type": "markdown",
   "metadata": {},
   "source": [
    "### Products/Service Idea Design\n",
    "This is a sociological research so there might not be a product that will sell like iPhone but it could be used to raise awareness by the countries that people are immigrating to to the people who are living there. As this research might create a immigration friendly environment, companies supporting this might also pull immigrants to shop from there (although people hating immigrants might avoid this market, if the immigration is high, this type of action might be beneficial)\n"
   ]
  },
  {
   "attachments": {},
   "cell_type": "markdown",
   "metadata": {},
   "source": [
    "---"
   ]
  },
  {
   "attachments": {},
   "cell_type": "markdown",
   "metadata": {},
   "source": [
    "### Data Engineering Issues\n",
    "- Source of the data was important\n",
    "- Data types of the numerical values were string so we cleaned that\n",
    "- Some data were too dirty to clean\n",
    "- Data quality was low in some datasets\n",
    "- There were many data to decide from so it was difficult to pick the correct one\n"
   ]
  },
  {
   "attachments": {},
   "cell_type": "markdown",
   "metadata": {},
   "source": [
    "---"
   ]
  },
  {
   "attachments": {},
   "cell_type": "markdown",
   "metadata": {},
   "source": [
    "### Ethics Issues\n",
    "Immigration is a topic where people are sensitive about it, because it often creates a loneliness and the person who immigrates is now alone in a new world. One might say that human rights are an important topic on immigration. Fairness is also an issue here about immigration. In our datasets, data are private so person reaching outside will not know who the person is, but yet in our ideal dataset where there are more explanatory columns such as reason for immigration, people are sharing their private reasons with the officers who are saving this data.\n"
   ]
  }
 ],
 "metadata": {
  "kernelspec": {
   "display_name": "base",
   "language": "python",
   "name": "python3"
  },
  "language_info": {
   "codemirror_mode": {
    "name": "ipython",
    "version": 3
   },
   "file_extension": ".py",
   "mimetype": "text/x-python",
   "name": "python",
   "nbconvert_exporter": "python",
   "pygments_lexer": "ipython3",
   "version": "3.8.8"
  },
  "orig_nbformat": 4,
  "vscode": {
   "interpreter": {
    "hash": "72a8ec87c188797c3b2d1dc3c7662edd7e8a21afd42ce6bbed3de46a827dc390"
   }
  }
 },
 "nbformat": 4,
 "nbformat_minor": 2
}
